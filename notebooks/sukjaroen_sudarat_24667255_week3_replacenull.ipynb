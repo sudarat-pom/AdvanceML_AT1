{
  "cells": [
    {
      "cell_type": "markdown",
      "metadata": {
        "id": "uQ6wc2HE0pke"
      },
      "source": [
        "#36120 Advanced Machine Learning Application - Spring 2023\n",
        "##Assignment 1 (Week 3)\n",
        "##Logistic Regesstion\n",
        "##Run experiments by Sudarat Sukjaroen StudentID 24667255\n"
      ]
    },
    {
      "cell_type": "markdown",
      "metadata": {
        "id": "tQgxLRrvjiJb"
      },
      "source": [
        "Students are tasked to build a model to predict if a college basketball player will be drafted to join the NBA league based on his statistics for the current season.\n",
        "\n",
        "The steps are:\n",
        "\n",
        "1. Load and Explore Dataset\n",
        "2. Data exploration\n",
        "3. Data cleaning and Data preparation\n",
        "  - Remove duplicate record\n",
        "  - Replace Null value by Min, Max, Mean, Mode, Median\n",
        "  - Mapping text to number\n",
        "4. Calculate Information Gain (IG)\n",
        "5. Calculate Principal Component Analysis (PCA)\n",
        "6. Data Classification - Logistic Regression\n",
        "*   Logistic Regression - Find the best hyperparameter set\n",
        "*   Logistic Regression - Run the best hyperparameter set"
      ]
    },
    {
      "cell_type": "markdown",
      "metadata": {
        "id": "smh_LhVjIg9s"
      },
      "source": [
        "# 1. Load and Explore Dataset"
      ]
    },
    {
      "cell_type": "markdown",
      "metadata": {
        "id": "fGxuXXdM0XlU"
      },
      "source": [
        "Import the pandas, numpy and altair packages"
      ]
    },
    {
      "cell_type": "code",
      "execution_count": 1,
      "metadata": {
        "id": "faNd47YOMyk0"
      },
      "outputs": [],
      "source": [
        "# Solution\n",
        "import pandas as pd\n",
        "import numpy as np\n",
        "import altair as alt\n",
        "from scipy import stats"
      ]
    },
    {
      "cell_type": "markdown",
      "metadata": {
        "id": "oypXVmCBh5jV"
      },
      "source": [
        "Mounting the drive\n",
        "In this notebook"
      ]
    },
    {
      "cell_type": "code",
      "execution_count": 2,
      "metadata": {
        "colab": {
          "base_uri": "https://localhost:8080/"
        },
        "id": "Z5zdW1mEiE2N",
        "outputId": "84ed323f-b32a-4f6e-9a25-2b989f7daef7"
      },
      "outputs": [
        {
          "output_type": "stream",
          "name": "stdout",
          "text": [
            "Mounted at /content/drive\n"
          ]
        }
      ],
      "source": [
        "from google.colab import drive\n",
        "drive.mount('/content/drive')"
      ]
    },
    {
      "cell_type": "markdown",
      "metadata": {
        "id": "xhfJ4BK-0J2u"
      },
      "source": [
        "Read data from CSV file."
      ]
    },
    {
      "cell_type": "code",
      "execution_count": 3,
      "metadata": {
        "id": "EzMcp0AMidO_",
        "colab": {
          "base_uri": "https://localhost:8080/"
        },
        "outputId": "a5004ba9-0831-4c09-e24f-4611dab128b2"
      },
      "outputs": [
        {
          "output_type": "stream",
          "name": "stderr",
          "text": [
            "<ipython-input-3-6d528d1376ef>:1: DtypeWarning: Columns (26) have mixed types. Specify dtype option on import or set low_memory=False.\n",
            "  data = pd.read_csv('/content/drive/My Drive/AdvML/AT1/train.csv')\n"
          ]
        }
      ],
      "source": [
        "data = pd.read_csv('/content/drive/My Drive/AdvML/AT1/train.csv')\n",
        "data_test = pd.read_csv('/content/drive/My Drive/AdvML/AT1/test.csv')"
      ]
    },
    {
      "cell_type": "markdown",
      "metadata": {
        "id": "VD0HoewD6anc"
      },
      "source": [
        "# 2. Data exploration"
      ]
    },
    {
      "cell_type": "markdown",
      "metadata": {
        "id": "gnno_NL9Br98"
      },
      "source": [
        "*   Number of training data set = 56,091 (total 64 columns)\n",
        "*   Number of test data set = 4,970 (total 63 columns)"
      ]
    },
    {
      "cell_type": "markdown",
      "metadata": {
        "id": "VsBUCveH6q4C"
      },
      "source": [
        "Explore data information"
      ]
    },
    {
      "cell_type": "code",
      "execution_count": null,
      "metadata": {
        "colab": {
          "base_uri": "https://localhost:8080/"
        },
        "id": "nYJ5iPBKi8Yt",
        "outputId": "f04d5884-4bfa-4e2f-ff20-dcdb6aa7f4ab"
      },
      "outputs": [
        {
          "output_type": "stream",
          "name": "stdout",
          "text": [
            "<class 'pandas.core.frame.DataFrame'>\n",
            "Int64Index: 55792 entries, 0 to 56090\n",
            "Data columns (total 70 columns):\n",
            " #   Column               Non-Null Count  Dtype  \n",
            "---  ------               --------------  -----  \n",
            " 0   team                 55792 non-null  object \n",
            " 1   conf                 55792 non-null  object \n",
            " 2   GP                   55792 non-null  int64  \n",
            " 3   Min_per              55792 non-null  float64\n",
            " 4   Ortg                 55792 non-null  float64\n",
            " 5   usg                  55792 non-null  float64\n",
            " 6   eFG                  55792 non-null  float64\n",
            " 7   TS_per               55792 non-null  float64\n",
            " 8   ORB_per              55792 non-null  float64\n",
            " 9   DRB_per              55792 non-null  float64\n",
            " 10  AST_per              55792 non-null  float64\n",
            " 11  TO_per               55792 non-null  float64\n",
            " 12  FTM                  55792 non-null  int64  \n",
            " 13  FTA                  55792 non-null  int64  \n",
            " 14  FT_per               55792 non-null  float64\n",
            " 15  twoPM                55792 non-null  int64  \n",
            " 16  twoPA                55792 non-null  int64  \n",
            " 17  twoP_per             55792 non-null  float64\n",
            " 18  TPM                  55792 non-null  int64  \n",
            " 19  TPA                  55792 non-null  int64  \n",
            " 20  TP_per               55792 non-null  float64\n",
            " 21  blk_per              55792 non-null  float64\n",
            " 22  stl_per              55792 non-null  float64\n",
            " 23  ftr                  55792 non-null  float64\n",
            " 24  yr                   55792 non-null  object \n",
            " 25  ht                   55792 non-null  object \n",
            " 26  num                  55792 non-null  object \n",
            " 27  porpag               55792 non-null  float64\n",
            " 28  adjoe                55792 non-null  float64\n",
            " 29  pfr                  55792 non-null  float64\n",
            " 30  year                 55792 non-null  int64  \n",
            " 31  type                 55792 non-null  object \n",
            " 32  Rec_Rank             55792 non-null  float64\n",
            " 33  ast_tov              55792 non-null  float64\n",
            " 34  rimmade              55792 non-null  float64\n",
            " 35  rimmade_rimmiss      55792 non-null  float64\n",
            " 36  midmade              55792 non-null  float64\n",
            " 37  midmade_midmiss      55792 non-null  float64\n",
            " 38  rim_ratio            55792 non-null  float64\n",
            " 39  mid_ratio            55792 non-null  float64\n",
            " 40  dunksmade            55792 non-null  float64\n",
            " 41  dunksmiss_dunksmade  55792 non-null  float64\n",
            " 42  dunks_ratio          55792 non-null  float64\n",
            " 43  pick                 55792 non-null  float64\n",
            " 44  drtg                 55792 non-null  float64\n",
            " 45  adrtg                55792 non-null  float64\n",
            " 46  dporpag              55792 non-null  float64\n",
            " 47  stops                55792 non-null  float64\n",
            " 48  bpm                  55792 non-null  float64\n",
            " 49  obpm                 55792 non-null  float64\n",
            " 50  dbpm                 55792 non-null  float64\n",
            " 51  gbpm                 55792 non-null  float64\n",
            " 52  mp                   55792 non-null  float64\n",
            " 53  ogbpm                55792 non-null  float64\n",
            " 54  dgbpm                55792 non-null  float64\n",
            " 55  oreb                 55792 non-null  float64\n",
            " 56  dreb                 55792 non-null  float64\n",
            " 57  treb                 55792 non-null  float64\n",
            " 58  ast                  55792 non-null  float64\n",
            " 59  stl                  55792 non-null  float64\n",
            " 60  blk                  55792 non-null  float64\n",
            " 61  pts                  55792 non-null  float64\n",
            " 62  player_id            55792 non-null  object \n",
            " 63  drafted              55792 non-null  float64\n",
            " 64  team_number          55792 non-null  int64  \n",
            " 65  conf_number          55792 non-null  int64  \n",
            " 66  yr_number            55792 non-null  int64  \n",
            " 67  ht_number            55792 non-null  int64  \n",
            " 68  num_number           55792 non-null  int64  \n",
            " 69  player_number        55792 non-null  int64  \n",
            "dtypes: float64(49), int64(14), object(7)\n",
            "memory usage: 30.2+ MB\n",
            "<class 'pandas.core.frame.DataFrame'>\n",
            "Int64Index: 4968 entries, 0 to 4969\n",
            "Data columns (total 69 columns):\n",
            " #   Column               Non-Null Count  Dtype  \n",
            "---  ------               --------------  -----  \n",
            " 0   team                 4968 non-null   object \n",
            " 1   conf                 4968 non-null   object \n",
            " 2   GP                   4968 non-null   int64  \n",
            " 3   Min_per              4968 non-null   float64\n",
            " 4   Ortg                 4968 non-null   float64\n",
            " 5   usg                  4968 non-null   float64\n",
            " 6   eFG                  4968 non-null   float64\n",
            " 7   TS_per               4968 non-null   float64\n",
            " 8   ORB_per              4968 non-null   float64\n",
            " 9   DRB_per              4968 non-null   float64\n",
            " 10  AST_per              4968 non-null   float64\n",
            " 11  TO_per               4968 non-null   float64\n",
            " 12  FTM                  4968 non-null   int64  \n",
            " 13  FTA                  4968 non-null   int64  \n",
            " 14  FT_per               4968 non-null   float64\n",
            " 15  twoPM                4968 non-null   int64  \n",
            " 16  twoPA                4968 non-null   int64  \n",
            " 17  twoP_per             4968 non-null   float64\n",
            " 18  TPM                  4968 non-null   int64  \n",
            " 19  TPA                  4968 non-null   int64  \n",
            " 20  TP_per               4968 non-null   float64\n",
            " 21  blk_per              4968 non-null   float64\n",
            " 22  stl_per              4968 non-null   float64\n",
            " 23  ftr                  4968 non-null   float64\n",
            " 24  yr                   4968 non-null   object \n",
            " 25  ht                   4968 non-null   object \n",
            " 26  num                  4968 non-null   object \n",
            " 27  porpag               4968 non-null   float64\n",
            " 28  adjoe                4968 non-null   float64\n",
            " 29  pfr                  4968 non-null   float64\n",
            " 30  year                 4968 non-null   int64  \n",
            " 31  type                 4968 non-null   object \n",
            " 32  Rec_Rank             4968 non-null   float64\n",
            " 33  ast_tov              4968 non-null   float64\n",
            " 34  rimmade              4968 non-null   float64\n",
            " 35  rimmade_rimmiss      4968 non-null   float64\n",
            " 36  midmade              4968 non-null   float64\n",
            " 37  midmade_midmiss      4968 non-null   float64\n",
            " 38  rim_ratio            4968 non-null   float64\n",
            " 39  mid_ratio            4968 non-null   float64\n",
            " 40  dunksmade            4968 non-null   float64\n",
            " 41  dunksmiss_dunksmade  4968 non-null   float64\n",
            " 42  dunks_ratio          4968 non-null   float64\n",
            " 43  pick                 4968 non-null   float64\n",
            " 44  drtg                 4968 non-null   float64\n",
            " 45  adrtg                4968 non-null   float64\n",
            " 46  dporpag              4968 non-null   float64\n",
            " 47  stops                4968 non-null   float64\n",
            " 48  bpm                  4968 non-null   float64\n",
            " 49  obpm                 4968 non-null   float64\n",
            " 50  dbpm                 4968 non-null   float64\n",
            " 51  gbpm                 4968 non-null   float64\n",
            " 52  mp                   4968 non-null   float64\n",
            " 53  ogbpm                4968 non-null   float64\n",
            " 54  dgbpm                4968 non-null   float64\n",
            " 55  oreb                 4968 non-null   float64\n",
            " 56  dreb                 4968 non-null   float64\n",
            " 57  treb                 4968 non-null   float64\n",
            " 58  ast                  4968 non-null   float64\n",
            " 59  stl                  4968 non-null   float64\n",
            " 60  blk                  4968 non-null   float64\n",
            " 61  pts                  4968 non-null   float64\n",
            " 62  player_id            4968 non-null   object \n",
            " 63  team_number          4968 non-null   int64  \n",
            " 64  conf_number          4968 non-null   int64  \n",
            " 65  yr_number            4968 non-null   int64  \n",
            " 66  ht_number            4968 non-null   int64  \n",
            " 67  num_number           4968 non-null   int64  \n",
            " 68  player_number        4968 non-null   int64  \n",
            "dtypes: float64(48), int64(14), object(7)\n",
            "memory usage: 2.7+ MB\n"
          ]
        }
      ],
      "source": [
        "data.info()\n",
        "data_test.info()"
      ]
    },
    {
      "cell_type": "markdown",
      "metadata": {
        "id": "60tJWR-80pmX"
      },
      "source": [
        "Explore data description."
      ]
    },
    {
      "cell_type": "code",
      "source": [
        "data.describe()\n",
        "data_test.describe()"
      ],
      "metadata": {
        "colab": {
          "base_uri": "https://localhost:8080/",
          "height": 349
        },
        "id": "zOf18adh_Vzk",
        "outputId": "ff475b43-a2da-4fe6-8858-141d0f26f468"
      },
      "execution_count": null,
      "outputs": [
        {
          "output_type": "execute_result",
          "data": {
            "text/plain": [
              "                GP      Min_per         Ortg          usg          eFG  \\\n",
              "count  4970.000000  4970.000000  4970.000000  4970.000000  4970.000000   \n",
              "mean     15.865795    34.906881    89.500644    17.867626    43.657203   \n",
              "std       8.276655    27.921356    35.338827     6.780159    20.716630   \n",
              "min       1.000000     0.100000     0.000000     0.000000     0.000000   \n",
              "25%       9.000000     6.700000    80.900000    14.200000    38.400000   \n",
              "50%      17.000000    32.350000    96.800000    18.000000    48.100000   \n",
              "75%      22.000000    59.900000   107.100000    21.800000    54.000000   \n",
              "max      33.000000    96.000000   391.200000    48.200000   150.000000   \n",
              "\n",
              "            TS_per      ORB_per      DRB_per      AST_per       TO_per  ...  \\\n",
              "count  4970.000000  4970.000000  4970.000000  4970.000000  4970.000000  ...   \n",
              "mean     46.538342     5.168390    13.048753    10.356801    18.962254  ...   \n",
              "std      19.992005     7.030561     9.248595     9.427192    13.255566  ...   \n",
              "min       0.000000     0.000000     0.000000     0.000000     0.000000  ...   \n",
              "25%      42.340000     1.400000     8.400000     4.300000    13.100000  ...   \n",
              "50%      50.850000     3.700000    12.300000     8.600000    18.100000  ...   \n",
              "75%      56.780000     7.400000    16.800000    14.500000    23.400000  ...   \n",
              "max     150.000000   231.800000   121.100000   100.000000   100.000000  ...   \n",
              "\n",
              "                mp        ogbpm        dgbpm         oreb         dreb  \\\n",
              "count  4970.000000  4969.000000  4969.000000  4970.000000  4970.000000   \n",
              "mean     16.569559    -2.149284    -0.526065     0.697025     1.953592   \n",
              "std      10.550727     6.750792     3.920493     0.683636     1.533018   \n",
              "min       0.250000   -62.101300   -31.594500     0.000000     0.000000   \n",
              "25%       6.891675    -4.443960    -1.868180     0.200000     0.750000   \n",
              "50%      16.083350    -1.540360    -0.397400     0.500000     1.666700   \n",
              "75%      25.991375     1.103500     1.049540     1.000000     2.882400   \n",
              "max      38.800000   160.805000    71.811500     5.148100    10.681800   \n",
              "\n",
              "              treb          ast          stl          blk          pts  \n",
              "count  4970.000000  4970.000000  4970.000000  4970.000000  4970.000000  \n",
              "mean      2.650609     1.069840     0.529118     0.260375     5.753262  \n",
              "std       2.073589     1.153074     0.474838     0.380465     4.881835  \n",
              "min       0.000000     0.000000     0.000000     0.000000     0.000000  \n",
              "25%       1.000000     0.250000     0.142900     0.000000     1.602175  \n",
              "50%       2.260900     0.680000     0.428600     0.133300     4.535900  \n",
              "75%       3.800000     1.533300     0.807700     0.333300     9.000000  \n",
              "max      15.000000     8.400000     3.565200     3.640000    25.333300  \n",
              "\n",
              "[8 rows x 56 columns]"
            ],
            "text/html": [
              "\n",
              "  <div id=\"df-bb1c50fa-1bbd-4424-b6f5-e1f510eb83c2\" class=\"colab-df-container\">\n",
              "    <div>\n",
              "<style scoped>\n",
              "    .dataframe tbody tr th:only-of-type {\n",
              "        vertical-align: middle;\n",
              "    }\n",
              "\n",
              "    .dataframe tbody tr th {\n",
              "        vertical-align: top;\n",
              "    }\n",
              "\n",
              "    .dataframe thead th {\n",
              "        text-align: right;\n",
              "    }\n",
              "</style>\n",
              "<table border=\"1\" class=\"dataframe\">\n",
              "  <thead>\n",
              "    <tr style=\"text-align: right;\">\n",
              "      <th></th>\n",
              "      <th>GP</th>\n",
              "      <th>Min_per</th>\n",
              "      <th>Ortg</th>\n",
              "      <th>usg</th>\n",
              "      <th>eFG</th>\n",
              "      <th>TS_per</th>\n",
              "      <th>ORB_per</th>\n",
              "      <th>DRB_per</th>\n",
              "      <th>AST_per</th>\n",
              "      <th>TO_per</th>\n",
              "      <th>...</th>\n",
              "      <th>mp</th>\n",
              "      <th>ogbpm</th>\n",
              "      <th>dgbpm</th>\n",
              "      <th>oreb</th>\n",
              "      <th>dreb</th>\n",
              "      <th>treb</th>\n",
              "      <th>ast</th>\n",
              "      <th>stl</th>\n",
              "      <th>blk</th>\n",
              "      <th>pts</th>\n",
              "    </tr>\n",
              "  </thead>\n",
              "  <tbody>\n",
              "    <tr>\n",
              "      <th>count</th>\n",
              "      <td>4970.000000</td>\n",
              "      <td>4970.000000</td>\n",
              "      <td>4970.000000</td>\n",
              "      <td>4970.000000</td>\n",
              "      <td>4970.000000</td>\n",
              "      <td>4970.000000</td>\n",
              "      <td>4970.000000</td>\n",
              "      <td>4970.000000</td>\n",
              "      <td>4970.000000</td>\n",
              "      <td>4970.000000</td>\n",
              "      <td>...</td>\n",
              "      <td>4970.000000</td>\n",
              "      <td>4969.000000</td>\n",
              "      <td>4969.000000</td>\n",
              "      <td>4970.000000</td>\n",
              "      <td>4970.000000</td>\n",
              "      <td>4970.000000</td>\n",
              "      <td>4970.000000</td>\n",
              "      <td>4970.000000</td>\n",
              "      <td>4970.000000</td>\n",
              "      <td>4970.000000</td>\n",
              "    </tr>\n",
              "    <tr>\n",
              "      <th>mean</th>\n",
              "      <td>15.865795</td>\n",
              "      <td>34.906881</td>\n",
              "      <td>89.500644</td>\n",
              "      <td>17.867626</td>\n",
              "      <td>43.657203</td>\n",
              "      <td>46.538342</td>\n",
              "      <td>5.168390</td>\n",
              "      <td>13.048753</td>\n",
              "      <td>10.356801</td>\n",
              "      <td>18.962254</td>\n",
              "      <td>...</td>\n",
              "      <td>16.569559</td>\n",
              "      <td>-2.149284</td>\n",
              "      <td>-0.526065</td>\n",
              "      <td>0.697025</td>\n",
              "      <td>1.953592</td>\n",
              "      <td>2.650609</td>\n",
              "      <td>1.069840</td>\n",
              "      <td>0.529118</td>\n",
              "      <td>0.260375</td>\n",
              "      <td>5.753262</td>\n",
              "    </tr>\n",
              "    <tr>\n",
              "      <th>std</th>\n",
              "      <td>8.276655</td>\n",
              "      <td>27.921356</td>\n",
              "      <td>35.338827</td>\n",
              "      <td>6.780159</td>\n",
              "      <td>20.716630</td>\n",
              "      <td>19.992005</td>\n",
              "      <td>7.030561</td>\n",
              "      <td>9.248595</td>\n",
              "      <td>9.427192</td>\n",
              "      <td>13.255566</td>\n",
              "      <td>...</td>\n",
              "      <td>10.550727</td>\n",
              "      <td>6.750792</td>\n",
              "      <td>3.920493</td>\n",
              "      <td>0.683636</td>\n",
              "      <td>1.533018</td>\n",
              "      <td>2.073589</td>\n",
              "      <td>1.153074</td>\n",
              "      <td>0.474838</td>\n",
              "      <td>0.380465</td>\n",
              "      <td>4.881835</td>\n",
              "    </tr>\n",
              "    <tr>\n",
              "      <th>min</th>\n",
              "      <td>1.000000</td>\n",
              "      <td>0.100000</td>\n",
              "      <td>0.000000</td>\n",
              "      <td>0.000000</td>\n",
              "      <td>0.000000</td>\n",
              "      <td>0.000000</td>\n",
              "      <td>0.000000</td>\n",
              "      <td>0.000000</td>\n",
              "      <td>0.000000</td>\n",
              "      <td>0.000000</td>\n",
              "      <td>...</td>\n",
              "      <td>0.250000</td>\n",
              "      <td>-62.101300</td>\n",
              "      <td>-31.594500</td>\n",
              "      <td>0.000000</td>\n",
              "      <td>0.000000</td>\n",
              "      <td>0.000000</td>\n",
              "      <td>0.000000</td>\n",
              "      <td>0.000000</td>\n",
              "      <td>0.000000</td>\n",
              "      <td>0.000000</td>\n",
              "    </tr>\n",
              "    <tr>\n",
              "      <th>25%</th>\n",
              "      <td>9.000000</td>\n",
              "      <td>6.700000</td>\n",
              "      <td>80.900000</td>\n",
              "      <td>14.200000</td>\n",
              "      <td>38.400000</td>\n",
              "      <td>42.340000</td>\n",
              "      <td>1.400000</td>\n",
              "      <td>8.400000</td>\n",
              "      <td>4.300000</td>\n",
              "      <td>13.100000</td>\n",
              "      <td>...</td>\n",
              "      <td>6.891675</td>\n",
              "      <td>-4.443960</td>\n",
              "      <td>-1.868180</td>\n",
              "      <td>0.200000</td>\n",
              "      <td>0.750000</td>\n",
              "      <td>1.000000</td>\n",
              "      <td>0.250000</td>\n",
              "      <td>0.142900</td>\n",
              "      <td>0.000000</td>\n",
              "      <td>1.602175</td>\n",
              "    </tr>\n",
              "    <tr>\n",
              "      <th>50%</th>\n",
              "      <td>17.000000</td>\n",
              "      <td>32.350000</td>\n",
              "      <td>96.800000</td>\n",
              "      <td>18.000000</td>\n",
              "      <td>48.100000</td>\n",
              "      <td>50.850000</td>\n",
              "      <td>3.700000</td>\n",
              "      <td>12.300000</td>\n",
              "      <td>8.600000</td>\n",
              "      <td>18.100000</td>\n",
              "      <td>...</td>\n",
              "      <td>16.083350</td>\n",
              "      <td>-1.540360</td>\n",
              "      <td>-0.397400</td>\n",
              "      <td>0.500000</td>\n",
              "      <td>1.666700</td>\n",
              "      <td>2.260900</td>\n",
              "      <td>0.680000</td>\n",
              "      <td>0.428600</td>\n",
              "      <td>0.133300</td>\n",
              "      <td>4.535900</td>\n",
              "    </tr>\n",
              "    <tr>\n",
              "      <th>75%</th>\n",
              "      <td>22.000000</td>\n",
              "      <td>59.900000</td>\n",
              "      <td>107.100000</td>\n",
              "      <td>21.800000</td>\n",
              "      <td>54.000000</td>\n",
              "      <td>56.780000</td>\n",
              "      <td>7.400000</td>\n",
              "      <td>16.800000</td>\n",
              "      <td>14.500000</td>\n",
              "      <td>23.400000</td>\n",
              "      <td>...</td>\n",
              "      <td>25.991375</td>\n",
              "      <td>1.103500</td>\n",
              "      <td>1.049540</td>\n",
              "      <td>1.000000</td>\n",
              "      <td>2.882400</td>\n",
              "      <td>3.800000</td>\n",
              "      <td>1.533300</td>\n",
              "      <td>0.807700</td>\n",
              "      <td>0.333300</td>\n",
              "      <td>9.000000</td>\n",
              "    </tr>\n",
              "    <tr>\n",
              "      <th>max</th>\n",
              "      <td>33.000000</td>\n",
              "      <td>96.000000</td>\n",
              "      <td>391.200000</td>\n",
              "      <td>48.200000</td>\n",
              "      <td>150.000000</td>\n",
              "      <td>150.000000</td>\n",
              "      <td>231.800000</td>\n",
              "      <td>121.100000</td>\n",
              "      <td>100.000000</td>\n",
              "      <td>100.000000</td>\n",
              "      <td>...</td>\n",
              "      <td>38.800000</td>\n",
              "      <td>160.805000</td>\n",
              "      <td>71.811500</td>\n",
              "      <td>5.148100</td>\n",
              "      <td>10.681800</td>\n",
              "      <td>15.000000</td>\n",
              "      <td>8.400000</td>\n",
              "      <td>3.565200</td>\n",
              "      <td>3.640000</td>\n",
              "      <td>25.333300</td>\n",
              "    </tr>\n",
              "  </tbody>\n",
              "</table>\n",
              "<p>8 rows × 56 columns</p>\n",
              "</div>\n",
              "    <div class=\"colab-df-buttons\">\n",
              "\n",
              "  <div class=\"colab-df-container\">\n",
              "    <button class=\"colab-df-convert\" onclick=\"convertToInteractive('df-bb1c50fa-1bbd-4424-b6f5-e1f510eb83c2')\"\n",
              "            title=\"Convert this dataframe to an interactive table.\"\n",
              "            style=\"display:none;\">\n",
              "\n",
              "  <svg xmlns=\"http://www.w3.org/2000/svg\" height=\"24px\" viewBox=\"0 -960 960 960\">\n",
              "    <path d=\"M120-120v-720h720v720H120Zm60-500h600v-160H180v160Zm220 220h160v-160H400v160Zm0 220h160v-160H400v160ZM180-400h160v-160H180v160Zm440 0h160v-160H620v160ZM180-180h160v-160H180v160Zm440 0h160v-160H620v160Z\"/>\n",
              "  </svg>\n",
              "    </button>\n",
              "\n",
              "  <style>\n",
              "    .colab-df-container {\n",
              "      display:flex;\n",
              "      gap: 12px;\n",
              "    }\n",
              "\n",
              "    .colab-df-convert {\n",
              "      background-color: #E8F0FE;\n",
              "      border: none;\n",
              "      border-radius: 50%;\n",
              "      cursor: pointer;\n",
              "      display: none;\n",
              "      fill: #1967D2;\n",
              "      height: 32px;\n",
              "      padding: 0 0 0 0;\n",
              "      width: 32px;\n",
              "    }\n",
              "\n",
              "    .colab-df-convert:hover {\n",
              "      background-color: #E2EBFA;\n",
              "      box-shadow: 0px 1px 2px rgba(60, 64, 67, 0.3), 0px 1px 3px 1px rgba(60, 64, 67, 0.15);\n",
              "      fill: #174EA6;\n",
              "    }\n",
              "\n",
              "    .colab-df-buttons div {\n",
              "      margin-bottom: 4px;\n",
              "    }\n",
              "\n",
              "    [theme=dark] .colab-df-convert {\n",
              "      background-color: #3B4455;\n",
              "      fill: #D2E3FC;\n",
              "    }\n",
              "\n",
              "    [theme=dark] .colab-df-convert:hover {\n",
              "      background-color: #434B5C;\n",
              "      box-shadow: 0px 1px 3px 1px rgba(0, 0, 0, 0.15);\n",
              "      filter: drop-shadow(0px 1px 2px rgba(0, 0, 0, 0.3));\n",
              "      fill: #FFFFFF;\n",
              "    }\n",
              "  </style>\n",
              "\n",
              "    <script>\n",
              "      const buttonEl =\n",
              "        document.querySelector('#df-bb1c50fa-1bbd-4424-b6f5-e1f510eb83c2 button.colab-df-convert');\n",
              "      buttonEl.style.display =\n",
              "        google.colab.kernel.accessAllowed ? 'block' : 'none';\n",
              "\n",
              "      async function convertToInteractive(key) {\n",
              "        const element = document.querySelector('#df-bb1c50fa-1bbd-4424-b6f5-e1f510eb83c2');\n",
              "        const dataTable =\n",
              "          await google.colab.kernel.invokeFunction('convertToInteractive',\n",
              "                                                    [key], {});\n",
              "        if (!dataTable) return;\n",
              "\n",
              "        const docLinkHtml = 'Like what you see? Visit the ' +\n",
              "          '<a target=\"_blank\" href=https://colab.research.google.com/notebooks/data_table.ipynb>data table notebook</a>'\n",
              "          + ' to learn more about interactive tables.';\n",
              "        element.innerHTML = '';\n",
              "        dataTable['output_type'] = 'display_data';\n",
              "        await google.colab.output.renderOutput(dataTable, element);\n",
              "        const docLink = document.createElement('div');\n",
              "        docLink.innerHTML = docLinkHtml;\n",
              "        element.appendChild(docLink);\n",
              "      }\n",
              "    </script>\n",
              "  </div>\n",
              "\n",
              "\n",
              "<div id=\"df-b0243f18-5a31-47ba-ab2d-03eebbbff9a1\">\n",
              "  <button class=\"colab-df-quickchart\" onclick=\"quickchart('df-b0243f18-5a31-47ba-ab2d-03eebbbff9a1')\"\n",
              "            title=\"Suggest charts.\"\n",
              "            style=\"display:none;\">\n",
              "\n",
              "<svg xmlns=\"http://www.w3.org/2000/svg\" height=\"24px\"viewBox=\"0 0 24 24\"\n",
              "     width=\"24px\">\n",
              "    <g>\n",
              "        <path d=\"M19 3H5c-1.1 0-2 .9-2 2v14c0 1.1.9 2 2 2h14c1.1 0 2-.9 2-2V5c0-1.1-.9-2-2-2zM9 17H7v-7h2v7zm4 0h-2V7h2v10zm4 0h-2v-4h2v4z\"/>\n",
              "    </g>\n",
              "</svg>\n",
              "  </button>\n",
              "\n",
              "<style>\n",
              "  .colab-df-quickchart {\n",
              "    background-color: #E8F0FE;\n",
              "    border: none;\n",
              "    border-radius: 50%;\n",
              "    cursor: pointer;\n",
              "    display: none;\n",
              "    fill: #1967D2;\n",
              "    height: 32px;\n",
              "    padding: 0 0 0 0;\n",
              "    width: 32px;\n",
              "  }\n",
              "\n",
              "  .colab-df-quickchart:hover {\n",
              "    background-color: #E2EBFA;\n",
              "    box-shadow: 0px 1px 2px rgba(60, 64, 67, 0.3), 0px 1px 3px 1px rgba(60, 64, 67, 0.15);\n",
              "    fill: #174EA6;\n",
              "  }\n",
              "\n",
              "  [theme=dark] .colab-df-quickchart {\n",
              "    background-color: #3B4455;\n",
              "    fill: #D2E3FC;\n",
              "  }\n",
              "\n",
              "  [theme=dark] .colab-df-quickchart:hover {\n",
              "    background-color: #434B5C;\n",
              "    box-shadow: 0px 1px 3px 1px rgba(0, 0, 0, 0.15);\n",
              "    filter: drop-shadow(0px 1px 2px rgba(0, 0, 0, 0.3));\n",
              "    fill: #FFFFFF;\n",
              "  }\n",
              "</style>\n",
              "\n",
              "  <script>\n",
              "    async function quickchart(key) {\n",
              "      const charts = await google.colab.kernel.invokeFunction(\n",
              "          'suggestCharts', [key], {});\n",
              "    }\n",
              "    (() => {\n",
              "      let quickchartButtonEl =\n",
              "        document.querySelector('#df-b0243f18-5a31-47ba-ab2d-03eebbbff9a1 button');\n",
              "      quickchartButtonEl.style.display =\n",
              "        google.colab.kernel.accessAllowed ? 'block' : 'none';\n",
              "    })();\n",
              "  </script>\n",
              "</div>\n",
              "    </div>\n",
              "  </div>\n"
            ]
          },
          "metadata": {},
          "execution_count": 5
        }
      ]
    },
    {
      "cell_type": "markdown",
      "metadata": {
        "id": "-seJZ8Zz0wo4"
      },
      "source": [
        "Display data top 10 rows."
      ]
    },
    {
      "cell_type": "code",
      "execution_count": null,
      "metadata": {
        "colab": {
          "base_uri": "https://localhost:8080/",
          "height": 932
        },
        "id": "PgFUmVADjfdj",
        "outputId": "9690de18-8a95-4066-a913-95049bc6dd2d"
      },
      "outputs": [
        {
          "output_type": "execute_result",
          "data": {
            "text/plain": [
              "                 team  conf  GP  Min_per   Ortg   usg    eFG  TS_per  ORB_per  \\\n",
              "0          Morgan St.  MEAC   2      3.0  115.1   4.7   50.0   50.00      0.0   \n",
              "1  South Carolina St.  MEAC  11     17.6   61.1  18.6   34.7   35.18      2.5   \n",
              "2          Binghamton    AE   9     28.6   91.9  23.8   54.1   52.49      6.4   \n",
              "3            Illinois   B10   7      1.3  111.0  10.4   83.3   83.33      0.0   \n",
              "4            Iowa St.   B12  23     78.5  103.1  21.5   54.0   56.12      3.6   \n",
              "5            Ball St.   MAC  20     63.0  108.6  26.5   54.3   58.88      9.1   \n",
              "6            Cal Poly    BW   8      9.5   74.5  18.4   52.6   53.86      5.2   \n",
              "7            Hartford    AE  24     79.7   95.1  24.0   46.9   50.06      1.1   \n",
              "8         Florida St.   ACC   9      1.8   72.7  25.2   28.6   28.57      7.0   \n",
              "9        Georgia Tech   ACC   2      0.2  200.0  13.7  100.0  100.00      0.0   \n",
              "\n",
              "   DRB_per  ...     ogbpm     dgbpm    oreb    dreb    treb     ast     stl  \\\n",
              "0      4.6  ... -2.467740 -2.275660  0.0000  0.3333  0.3333  0.0000  0.0000   \n",
              "1     15.7  ... -7.494720 -4.412530  0.2727  1.4545  1.7273  0.4545  0.1818   \n",
              "2     22.5  ... -2.924950  1.717890  1.3333  4.4444  5.7778  1.0000  0.6667   \n",
              "3     13.4  ... -0.767911  0.962469  0.0000  0.2857  0.2857  0.0000  0.0000   \n",
              "4     10.2  ...  2.893610 -1.019000  1.0435  2.8696  3.9130  1.1739  0.8261   \n",
              "5     12.6  ...  2.787850 -0.335789  2.3500  3.5500  5.9000  1.1500  1.2500   \n",
              "6     20.0  ... -8.156100 -0.534680  0.5556  1.7778  2.3333  0.2222  0.0000   \n",
              "7     11.2  ... -1.056580  2.918550  0.2917  3.1667  3.4583  3.5417  2.5000   \n",
              "8      0.0  ... -4.761570 -2.406140  0.1111  0.0000  0.1111  0.3333  0.1111   \n",
              "9      0.0  ...  9.582340 -1.018550  0.0000  0.0000  0.0000  0.0000  0.0000   \n",
              "\n",
              "      blk      pts                             player_id  \n",
              "0  0.0000   1.0000  cf302b4d-84f7-4124-a25d-a75eed31978b  \n",
              "1  0.0000   2.3636  f91837cd-4f49-4b70-963d-aeb82c6ce3da  \n",
              "2  1.8889   8.8889  53ec2a29-1e7d-4c6d-86d7-d60d02af8916  \n",
              "3  0.0000   0.7143  32402798-471c-4a54-8cb4-29cd95199014  \n",
              "4  0.0870  14.3043  73b960f9-27b8-4431-9d23-a760e9bbc360  \n",
              "5  0.2000  16.3500  5247bd7c-a67b-427e-a8e8-79248e5060fe  \n",
              "6  0.5556   3.3333  7dfdfb34-e3ab-4650-877c-8582f0674699  \n",
              "7  0.2500  11.6667  e7ebd32a-f567-4864-a319-384a7dce2719  \n",
              "8  0.0000   0.4444  0f3f27ad-aa27-4f18-b32e-7bff491efbbf  \n",
              "9  0.0000   1.0000  3de68227-0c33-40af-b7e8-beadbffe1fe2  \n",
              "\n",
              "[10 rows x 63 columns]"
            ],
            "text/html": [
              "\n",
              "  <div id=\"df-1a7974e6-2586-48d3-b8a5-8c8b58915062\" class=\"colab-df-container\">\n",
              "    <div>\n",
              "<style scoped>\n",
              "    .dataframe tbody tr th:only-of-type {\n",
              "        vertical-align: middle;\n",
              "    }\n",
              "\n",
              "    .dataframe tbody tr th {\n",
              "        vertical-align: top;\n",
              "    }\n",
              "\n",
              "    .dataframe thead th {\n",
              "        text-align: right;\n",
              "    }\n",
              "</style>\n",
              "<table border=\"1\" class=\"dataframe\">\n",
              "  <thead>\n",
              "    <tr style=\"text-align: right;\">\n",
              "      <th></th>\n",
              "      <th>team</th>\n",
              "      <th>conf</th>\n",
              "      <th>GP</th>\n",
              "      <th>Min_per</th>\n",
              "      <th>Ortg</th>\n",
              "      <th>usg</th>\n",
              "      <th>eFG</th>\n",
              "      <th>TS_per</th>\n",
              "      <th>ORB_per</th>\n",
              "      <th>DRB_per</th>\n",
              "      <th>...</th>\n",
              "      <th>ogbpm</th>\n",
              "      <th>dgbpm</th>\n",
              "      <th>oreb</th>\n",
              "      <th>dreb</th>\n",
              "      <th>treb</th>\n",
              "      <th>ast</th>\n",
              "      <th>stl</th>\n",
              "      <th>blk</th>\n",
              "      <th>pts</th>\n",
              "      <th>player_id</th>\n",
              "    </tr>\n",
              "  </thead>\n",
              "  <tbody>\n",
              "    <tr>\n",
              "      <th>0</th>\n",
              "      <td>Morgan St.</td>\n",
              "      <td>MEAC</td>\n",
              "      <td>2</td>\n",
              "      <td>3.0</td>\n",
              "      <td>115.1</td>\n",
              "      <td>4.7</td>\n",
              "      <td>50.0</td>\n",
              "      <td>50.00</td>\n",
              "      <td>0.0</td>\n",
              "      <td>4.6</td>\n",
              "      <td>...</td>\n",
              "      <td>-2.467740</td>\n",
              "      <td>-2.275660</td>\n",
              "      <td>0.0000</td>\n",
              "      <td>0.3333</td>\n",
              "      <td>0.3333</td>\n",
              "      <td>0.0000</td>\n",
              "      <td>0.0000</td>\n",
              "      <td>0.0000</td>\n",
              "      <td>1.0000</td>\n",
              "      <td>cf302b4d-84f7-4124-a25d-a75eed31978b</td>\n",
              "    </tr>\n",
              "    <tr>\n",
              "      <th>1</th>\n",
              "      <td>South Carolina St.</td>\n",
              "      <td>MEAC</td>\n",
              "      <td>11</td>\n",
              "      <td>17.6</td>\n",
              "      <td>61.1</td>\n",
              "      <td>18.6</td>\n",
              "      <td>34.7</td>\n",
              "      <td>35.18</td>\n",
              "      <td>2.5</td>\n",
              "      <td>15.7</td>\n",
              "      <td>...</td>\n",
              "      <td>-7.494720</td>\n",
              "      <td>-4.412530</td>\n",
              "      <td>0.2727</td>\n",
              "      <td>1.4545</td>\n",
              "      <td>1.7273</td>\n",
              "      <td>0.4545</td>\n",
              "      <td>0.1818</td>\n",
              "      <td>0.0000</td>\n",
              "      <td>2.3636</td>\n",
              "      <td>f91837cd-4f49-4b70-963d-aeb82c6ce3da</td>\n",
              "    </tr>\n",
              "    <tr>\n",
              "      <th>2</th>\n",
              "      <td>Binghamton</td>\n",
              "      <td>AE</td>\n",
              "      <td>9</td>\n",
              "      <td>28.6</td>\n",
              "      <td>91.9</td>\n",
              "      <td>23.8</td>\n",
              "      <td>54.1</td>\n",
              "      <td>52.49</td>\n",
              "      <td>6.4</td>\n",
              "      <td>22.5</td>\n",
              "      <td>...</td>\n",
              "      <td>-2.924950</td>\n",
              "      <td>1.717890</td>\n",
              "      <td>1.3333</td>\n",
              "      <td>4.4444</td>\n",
              "      <td>5.7778</td>\n",
              "      <td>1.0000</td>\n",
              "      <td>0.6667</td>\n",
              "      <td>1.8889</td>\n",
              "      <td>8.8889</td>\n",
              "      <td>53ec2a29-1e7d-4c6d-86d7-d60d02af8916</td>\n",
              "    </tr>\n",
              "    <tr>\n",
              "      <th>3</th>\n",
              "      <td>Illinois</td>\n",
              "      <td>B10</td>\n",
              "      <td>7</td>\n",
              "      <td>1.3</td>\n",
              "      <td>111.0</td>\n",
              "      <td>10.4</td>\n",
              "      <td>83.3</td>\n",
              "      <td>83.33</td>\n",
              "      <td>0.0</td>\n",
              "      <td>13.4</td>\n",
              "      <td>...</td>\n",
              "      <td>-0.767911</td>\n",
              "      <td>0.962469</td>\n",
              "      <td>0.0000</td>\n",
              "      <td>0.2857</td>\n",
              "      <td>0.2857</td>\n",
              "      <td>0.0000</td>\n",
              "      <td>0.0000</td>\n",
              "      <td>0.0000</td>\n",
              "      <td>0.7143</td>\n",
              "      <td>32402798-471c-4a54-8cb4-29cd95199014</td>\n",
              "    </tr>\n",
              "    <tr>\n",
              "      <th>4</th>\n",
              "      <td>Iowa St.</td>\n",
              "      <td>B12</td>\n",
              "      <td>23</td>\n",
              "      <td>78.5</td>\n",
              "      <td>103.1</td>\n",
              "      <td>21.5</td>\n",
              "      <td>54.0</td>\n",
              "      <td>56.12</td>\n",
              "      <td>3.6</td>\n",
              "      <td>10.2</td>\n",
              "      <td>...</td>\n",
              "      <td>2.893610</td>\n",
              "      <td>-1.019000</td>\n",
              "      <td>1.0435</td>\n",
              "      <td>2.8696</td>\n",
              "      <td>3.9130</td>\n",
              "      <td>1.1739</td>\n",
              "      <td>0.8261</td>\n",
              "      <td>0.0870</td>\n",
              "      <td>14.3043</td>\n",
              "      <td>73b960f9-27b8-4431-9d23-a760e9bbc360</td>\n",
              "    </tr>\n",
              "    <tr>\n",
              "      <th>5</th>\n",
              "      <td>Ball St.</td>\n",
              "      <td>MAC</td>\n",
              "      <td>20</td>\n",
              "      <td>63.0</td>\n",
              "      <td>108.6</td>\n",
              "      <td>26.5</td>\n",
              "      <td>54.3</td>\n",
              "      <td>58.88</td>\n",
              "      <td>9.1</td>\n",
              "      <td>12.6</td>\n",
              "      <td>...</td>\n",
              "      <td>2.787850</td>\n",
              "      <td>-0.335789</td>\n",
              "      <td>2.3500</td>\n",
              "      <td>3.5500</td>\n",
              "      <td>5.9000</td>\n",
              "      <td>1.1500</td>\n",
              "      <td>1.2500</td>\n",
              "      <td>0.2000</td>\n",
              "      <td>16.3500</td>\n",
              "      <td>5247bd7c-a67b-427e-a8e8-79248e5060fe</td>\n",
              "    </tr>\n",
              "    <tr>\n",
              "      <th>6</th>\n",
              "      <td>Cal Poly</td>\n",
              "      <td>BW</td>\n",
              "      <td>8</td>\n",
              "      <td>9.5</td>\n",
              "      <td>74.5</td>\n",
              "      <td>18.4</td>\n",
              "      <td>52.6</td>\n",
              "      <td>53.86</td>\n",
              "      <td>5.2</td>\n",
              "      <td>20.0</td>\n",
              "      <td>...</td>\n",
              "      <td>-8.156100</td>\n",
              "      <td>-0.534680</td>\n",
              "      <td>0.5556</td>\n",
              "      <td>1.7778</td>\n",
              "      <td>2.3333</td>\n",
              "      <td>0.2222</td>\n",
              "      <td>0.0000</td>\n",
              "      <td>0.5556</td>\n",
              "      <td>3.3333</td>\n",
              "      <td>7dfdfb34-e3ab-4650-877c-8582f0674699</td>\n",
              "    </tr>\n",
              "    <tr>\n",
              "      <th>7</th>\n",
              "      <td>Hartford</td>\n",
              "      <td>AE</td>\n",
              "      <td>24</td>\n",
              "      <td>79.7</td>\n",
              "      <td>95.1</td>\n",
              "      <td>24.0</td>\n",
              "      <td>46.9</td>\n",
              "      <td>50.06</td>\n",
              "      <td>1.1</td>\n",
              "      <td>11.2</td>\n",
              "      <td>...</td>\n",
              "      <td>-1.056580</td>\n",
              "      <td>2.918550</td>\n",
              "      <td>0.2917</td>\n",
              "      <td>3.1667</td>\n",
              "      <td>3.4583</td>\n",
              "      <td>3.5417</td>\n",
              "      <td>2.5000</td>\n",
              "      <td>0.2500</td>\n",
              "      <td>11.6667</td>\n",
              "      <td>e7ebd32a-f567-4864-a319-384a7dce2719</td>\n",
              "    </tr>\n",
              "    <tr>\n",
              "      <th>8</th>\n",
              "      <td>Florida St.</td>\n",
              "      <td>ACC</td>\n",
              "      <td>9</td>\n",
              "      <td>1.8</td>\n",
              "      <td>72.7</td>\n",
              "      <td>25.2</td>\n",
              "      <td>28.6</td>\n",
              "      <td>28.57</td>\n",
              "      <td>7.0</td>\n",
              "      <td>0.0</td>\n",
              "      <td>...</td>\n",
              "      <td>-4.761570</td>\n",
              "      <td>-2.406140</td>\n",
              "      <td>0.1111</td>\n",
              "      <td>0.0000</td>\n",
              "      <td>0.1111</td>\n",
              "      <td>0.3333</td>\n",
              "      <td>0.1111</td>\n",
              "      <td>0.0000</td>\n",
              "      <td>0.4444</td>\n",
              "      <td>0f3f27ad-aa27-4f18-b32e-7bff491efbbf</td>\n",
              "    </tr>\n",
              "    <tr>\n",
              "      <th>9</th>\n",
              "      <td>Georgia Tech</td>\n",
              "      <td>ACC</td>\n",
              "      <td>2</td>\n",
              "      <td>0.2</td>\n",
              "      <td>200.0</td>\n",
              "      <td>13.7</td>\n",
              "      <td>100.0</td>\n",
              "      <td>100.00</td>\n",
              "      <td>0.0</td>\n",
              "      <td>0.0</td>\n",
              "      <td>...</td>\n",
              "      <td>9.582340</td>\n",
              "      <td>-1.018550</td>\n",
              "      <td>0.0000</td>\n",
              "      <td>0.0000</td>\n",
              "      <td>0.0000</td>\n",
              "      <td>0.0000</td>\n",
              "      <td>0.0000</td>\n",
              "      <td>0.0000</td>\n",
              "      <td>1.0000</td>\n",
              "      <td>3de68227-0c33-40af-b7e8-beadbffe1fe2</td>\n",
              "    </tr>\n",
              "  </tbody>\n",
              "</table>\n",
              "<p>10 rows × 63 columns</p>\n",
              "</div>\n",
              "    <div class=\"colab-df-buttons\">\n",
              "\n",
              "  <div class=\"colab-df-container\">\n",
              "    <button class=\"colab-df-convert\" onclick=\"convertToInteractive('df-1a7974e6-2586-48d3-b8a5-8c8b58915062')\"\n",
              "            title=\"Convert this dataframe to an interactive table.\"\n",
              "            style=\"display:none;\">\n",
              "\n",
              "  <svg xmlns=\"http://www.w3.org/2000/svg\" height=\"24px\" viewBox=\"0 -960 960 960\">\n",
              "    <path d=\"M120-120v-720h720v720H120Zm60-500h600v-160H180v160Zm220 220h160v-160H400v160Zm0 220h160v-160H400v160ZM180-400h160v-160H180v160Zm440 0h160v-160H620v160ZM180-180h160v-160H180v160Zm440 0h160v-160H620v160Z\"/>\n",
              "  </svg>\n",
              "    </button>\n",
              "\n",
              "  <style>\n",
              "    .colab-df-container {\n",
              "      display:flex;\n",
              "      gap: 12px;\n",
              "    }\n",
              "\n",
              "    .colab-df-convert {\n",
              "      background-color: #E8F0FE;\n",
              "      border: none;\n",
              "      border-radius: 50%;\n",
              "      cursor: pointer;\n",
              "      display: none;\n",
              "      fill: #1967D2;\n",
              "      height: 32px;\n",
              "      padding: 0 0 0 0;\n",
              "      width: 32px;\n",
              "    }\n",
              "\n",
              "    .colab-df-convert:hover {\n",
              "      background-color: #E2EBFA;\n",
              "      box-shadow: 0px 1px 2px rgba(60, 64, 67, 0.3), 0px 1px 3px 1px rgba(60, 64, 67, 0.15);\n",
              "      fill: #174EA6;\n",
              "    }\n",
              "\n",
              "    .colab-df-buttons div {\n",
              "      margin-bottom: 4px;\n",
              "    }\n",
              "\n",
              "    [theme=dark] .colab-df-convert {\n",
              "      background-color: #3B4455;\n",
              "      fill: #D2E3FC;\n",
              "    }\n",
              "\n",
              "    [theme=dark] .colab-df-convert:hover {\n",
              "      background-color: #434B5C;\n",
              "      box-shadow: 0px 1px 3px 1px rgba(0, 0, 0, 0.15);\n",
              "      filter: drop-shadow(0px 1px 2px rgba(0, 0, 0, 0.3));\n",
              "      fill: #FFFFFF;\n",
              "    }\n",
              "  </style>\n",
              "\n",
              "    <script>\n",
              "      const buttonEl =\n",
              "        document.querySelector('#df-1a7974e6-2586-48d3-b8a5-8c8b58915062 button.colab-df-convert');\n",
              "      buttonEl.style.display =\n",
              "        google.colab.kernel.accessAllowed ? 'block' : 'none';\n",
              "\n",
              "      async function convertToInteractive(key) {\n",
              "        const element = document.querySelector('#df-1a7974e6-2586-48d3-b8a5-8c8b58915062');\n",
              "        const dataTable =\n",
              "          await google.colab.kernel.invokeFunction('convertToInteractive',\n",
              "                                                    [key], {});\n",
              "        if (!dataTable) return;\n",
              "\n",
              "        const docLinkHtml = 'Like what you see? Visit the ' +\n",
              "          '<a target=\"_blank\" href=https://colab.research.google.com/notebooks/data_table.ipynb>data table notebook</a>'\n",
              "          + ' to learn more about interactive tables.';\n",
              "        element.innerHTML = '';\n",
              "        dataTable['output_type'] = 'display_data';\n",
              "        await google.colab.output.renderOutput(dataTable, element);\n",
              "        const docLink = document.createElement('div');\n",
              "        docLink.innerHTML = docLinkHtml;\n",
              "        element.appendChild(docLink);\n",
              "      }\n",
              "    </script>\n",
              "  </div>\n",
              "\n",
              "\n",
              "<div id=\"df-8015ce7e-314a-4a3e-9616-633908a8dd60\">\n",
              "  <button class=\"colab-df-quickchart\" onclick=\"quickchart('df-8015ce7e-314a-4a3e-9616-633908a8dd60')\"\n",
              "            title=\"Suggest charts.\"\n",
              "            style=\"display:none;\">\n",
              "\n",
              "<svg xmlns=\"http://www.w3.org/2000/svg\" height=\"24px\"viewBox=\"0 0 24 24\"\n",
              "     width=\"24px\">\n",
              "    <g>\n",
              "        <path d=\"M19 3H5c-1.1 0-2 .9-2 2v14c0 1.1.9 2 2 2h14c1.1 0 2-.9 2-2V5c0-1.1-.9-2-2-2zM9 17H7v-7h2v7zm4 0h-2V7h2v10zm4 0h-2v-4h2v4z\"/>\n",
              "    </g>\n",
              "</svg>\n",
              "  </button>\n",
              "\n",
              "<style>\n",
              "  .colab-df-quickchart {\n",
              "    background-color: #E8F0FE;\n",
              "    border: none;\n",
              "    border-radius: 50%;\n",
              "    cursor: pointer;\n",
              "    display: none;\n",
              "    fill: #1967D2;\n",
              "    height: 32px;\n",
              "    padding: 0 0 0 0;\n",
              "    width: 32px;\n",
              "  }\n",
              "\n",
              "  .colab-df-quickchart:hover {\n",
              "    background-color: #E2EBFA;\n",
              "    box-shadow: 0px 1px 2px rgba(60, 64, 67, 0.3), 0px 1px 3px 1px rgba(60, 64, 67, 0.15);\n",
              "    fill: #174EA6;\n",
              "  }\n",
              "\n",
              "  [theme=dark] .colab-df-quickchart {\n",
              "    background-color: #3B4455;\n",
              "    fill: #D2E3FC;\n",
              "  }\n",
              "\n",
              "  [theme=dark] .colab-df-quickchart:hover {\n",
              "    background-color: #434B5C;\n",
              "    box-shadow: 0px 1px 3px 1px rgba(0, 0, 0, 0.15);\n",
              "    filter: drop-shadow(0px 1px 2px rgba(0, 0, 0, 0.3));\n",
              "    fill: #FFFFFF;\n",
              "  }\n",
              "</style>\n",
              "\n",
              "  <script>\n",
              "    async function quickchart(key) {\n",
              "      const charts = await google.colab.kernel.invokeFunction(\n",
              "          'suggestCharts', [key], {});\n",
              "    }\n",
              "    (() => {\n",
              "      let quickchartButtonEl =\n",
              "        document.querySelector('#df-8015ce7e-314a-4a3e-9616-633908a8dd60 button');\n",
              "      quickchartButtonEl.style.display =\n",
              "        google.colab.kernel.accessAllowed ? 'block' : 'none';\n",
              "    })();\n",
              "  </script>\n",
              "</div>\n",
              "    </div>\n",
              "  </div>\n"
            ]
          },
          "metadata": {},
          "execution_count": 6
        }
      ],
      "source": [
        "data.head(10)\n",
        "data_test.head(10)"
      ]
    },
    {
      "cell_type": "code",
      "execution_count": null,
      "metadata": {
        "colab": {
          "base_uri": "https://localhost:8080/"
        },
        "id": "EuijvVBoWCA2",
        "outputId": "41a98e54-e96c-490b-86c4-7a834ea3b55b"
      },
      "outputs": [
        {
          "output_type": "stream",
          "name": "stdout",
          "text": [
            "Number of distinct values in drafted: 2\n",
            "0.0 = 55555\n",
            "1.0 = 536\n"
          ]
        }
      ],
      "source": [
        "distinct_drafted_count = data['drafted'].nunique()\n",
        "print('Number of distinct values in drafted:', distinct_drafted_count)\n",
        "\n",
        "# Count the occurrences of each unique value in 'drafted' column\n",
        "drafted_counts = data['drafted'].value_counts()\n",
        "\n",
        "# Print the counts\n",
        "for value, count in drafted_counts.items():\n",
        "    print(f\"{value} = {count}\")"
      ]
    },
    {
      "cell_type": "markdown",
      "metadata": {
        "id": "prwbj7PX7cJJ"
      },
      "source": [
        "# 3. Data cleaning"
      ]
    },
    {
      "cell_type": "markdown",
      "metadata": {
        "id": "-n2TBGEV7zQW"
      },
      "source": [
        "##Drop duplicated records\n",
        "Not found duplicated data"
      ]
    },
    {
      "cell_type": "code",
      "execution_count": null,
      "metadata": {
        "colab": {
          "base_uri": "https://localhost:8080/"
        },
        "id": "tMIgUZdk779q",
        "outputId": "4909bd36-74df-4015-f73a-c475dcb65f3a"
      },
      "outputs": [
        {
          "output_type": "stream",
          "name": "stdout",
          "text": [
            "Number of duplicated values in Train data set: 0\n"
          ]
        }
      ],
      "source": [
        "# Check for duplicated values and display the count\n",
        "duplicate_count = data.duplicated().sum()\n",
        "\n",
        "# Print the number of duplicated values\n",
        "print(\"Number of duplicated values in Train data set:\", duplicate_count)"
      ]
    },
    {
      "cell_type": "code",
      "source": [
        "# Check for duplicated values and display the count\n",
        "duplicate_count = data_test.duplicated().sum()\n",
        "\n",
        "# Print the number of duplicated values\n",
        "print(\"Number of duplicated values in Test data set:\", duplicate_count)"
      ],
      "metadata": {
        "colab": {
          "base_uri": "https://localhost:8080/"
        },
        "id": "YedVA6qGAArE",
        "outputId": "8aacd72c-1336-4615-c4a6-baa012466bba"
      },
      "execution_count": null,
      "outputs": [
        {
          "output_type": "stream",
          "name": "stdout",
          "text": [
            "Number of duplicated values in Test data set: 0\n"
          ]
        }
      ]
    },
    {
      "cell_type": "markdown",
      "source": [
        "##Check Null value in columns"
      ],
      "metadata": {
        "id": "oiK8cprHmLQ4"
      }
    },
    {
      "cell_type": "markdown",
      "source": [
        "####Train data"
      ],
      "metadata": {
        "id": "c9UF2-soLRZR"
      }
    },
    {
      "cell_type": "code",
      "source": [
        "# Check for null values in all columns\n",
        "null_columns = data.columns[data.isnull().any()]\n",
        "null_count = data[null_columns].isnull().sum()\n",
        "\n",
        "if null_count.empty:\n",
        "    print(\"No null values found in any column.\")\n",
        "else:\n",
        "    print(\"Columns with null values in Train data set:\")\n",
        "    print(null_count)"
      ],
      "metadata": {
        "colab": {
          "base_uri": "https://localhost:8080/"
        },
        "id": "zTz7oiiKmW7v",
        "outputId": "35527fa1-ac3a-4cd4-c998-83f46362206a"
      },
      "execution_count": null,
      "outputs": [
        {
          "output_type": "stream",
          "name": "stdout",
          "text": [
            "No null values found in any column.\n"
          ]
        }
      ]
    },
    {
      "cell_type": "markdown",
      "source": [
        "####Test data"
      ],
      "metadata": {
        "id": "zSaH7YthLW2Y"
      }
    },
    {
      "cell_type": "code",
      "source": [
        "# Check for null values in all columns\n",
        "null_columns = data_test.columns[data_test.isnull().any()]\n",
        "null_count = data_test[null_columns].isnull().sum()\n",
        "\n",
        "if null_count.empty:\n",
        "    print(\"No null values found in any column.\")\n",
        "else:\n",
        "    print(\"Columns with null values in Test data set:\")\n",
        "    print(null_count)"
      ],
      "metadata": {
        "colab": {
          "base_uri": "https://localhost:8080/"
        },
        "id": "l1i6Nb5jAXo2",
        "outputId": "5c21ad8c-96b8-41e4-e6f3-146c350bb718"
      },
      "execution_count": null,
      "outputs": [
        {
          "output_type": "stream",
          "name": "stdout",
          "text": [
            "No null values found in any column.\n"
          ]
        }
      ]
    },
    {
      "cell_type": "markdown",
      "source": [
        "###Replace Null value to 0"
      ],
      "metadata": {
        "id": "booZdAKt7BQ-"
      }
    },
    {
      "cell_type": "code",
      "source": [
        "\n",
        "data['ast_tov'].fillna(data['ast_tov'].median(), inplace=True)\n",
        "#Accuracy: 0.9936714502183795\n",
        "data['rimmade'].fillna(data['rimmade'].median(), inplace=True)\n",
        "#Accuracy: 0.9939062640021508\n",
        "data['pick'].fillna(data['pick'].max(), inplace=True)\n",
        "#Accuracy: 0.9945335603548705\n",
        "data['dunks_ratio'].fillna(data['dunks_ratio'].max(), inplace=True)\n",
        "#Accuracy: 0.994712787884219\n",
        "data['dunksmade'].fillna(data['dunksmade'].mean(), inplace=True)\n",
        "#Accuracy: 0.9948920154135675\n",
        "\n",
        "data_test['ast_tov'].fillna(data_test['ast_tov'].median(), inplace=True)\n",
        "#Accuracy: 0.9936714502183795\n",
        "data_test['rimmade'].fillna(data_test['rimmade'].median(), inplace=True)\n",
        "#Accuracy: 0.9939062640021508\n",
        "data_test['pick'].fillna(data_test['pick'].max(), inplace=True)\n",
        "#Accuracy: 0.9945335603548705\n",
        "data_test['dunks_ratio'].fillna(data_test['dunks_ratio'].max(), inplace=True)\n",
        "#Accuracy: 0.994712787884219\n",
        "data_test['dunksmade'].fillna(data_test['dunksmade'].mean(), inplace=True)\n",
        "#Accuracy: 0.9948920154135675\n",
        "##################################################################\n",
        "\n",
        "\n",
        "data = data.fillna(0)\n",
        "data_test = data_test.fillna(0)\n",
        "\n"
      ],
      "metadata": {
        "id": "ZSiKbcwZ6-OF",
        "colab": {
          "base_uri": "https://localhost:8080/"
        },
        "outputId": "e24c83cf-844d-46f6-b834-04ed3a9490df"
      },
      "execution_count": 49,
      "outputs": [
        {
          "output_type": "stream",
          "name": "stderr",
          "text": [
            "<ipython-input-49-44ce60ae8ec3>:1: DtypeWarning: Columns (26) have mixed types. Specify dtype option on import or set low_memory=False.\n",
            "  data = pd.read_csv('/content/drive/My Drive/AdvML/AT1/train.csv')\n"
          ]
        }
      ]
    },
    {
      "cell_type": "markdown",
      "source": [
        "# 3.1 Data preparation"
      ],
      "metadata": {
        "id": "aeKXKQ9Jr2Er"
      }
    },
    {
      "cell_type": "markdown",
      "metadata": {
        "id": "l7SkJK_EDzEe"
      },
      "source": [
        "##Mapping columns from text to number"
      ]
    },
    {
      "cell_type": "markdown",
      "metadata": {
        "id": "QPx-MTk_usDX"
      },
      "source": [
        "###Mapping team to team_number"
      ]
    },
    {
      "cell_type": "code",
      "execution_count": 50,
      "metadata": {
        "colab": {
          "base_uri": "https://localhost:8080/"
        },
        "id": "SBCyyUdS0zwM",
        "outputId": "ed458554-57e9-4878-d91b-0748c747e86c"
      },
      "outputs": [
        {
          "output_type": "stream",
          "name": "stdout",
          "text": [
            "Train data set: Distinct count in team: 358\n",
            "['South Alabama' 'Utah St.' 'South Florida' 'Pepperdine' 'Pacific'\n",
            " 'Butler' 'Longwood' 'Fordham' 'Wagner' 'Pittsburgh' 'Connecticut'\n",
            " 'North Carolina St.' 'Chicago St.' 'LSU' 'Boston University' 'Detroit'\n",
            " 'Albany' 'Manhattan' 'Navy' \"Saint Mary's\" 'Alabama A&M' 'Hofstra'\n",
            " 'James Madison' 'Missouri St.' 'Alabama' 'Boston College' 'Drexel'\n",
            " 'Binghamton' 'Bowling Green' 'Maryland' 'Colorado' 'Southern Miss'\n",
            " 'Old Dominion' 'Cal St. Fullerton' 'Oregon St.' 'St. Francis PA'\n",
            " 'Southern Illinois' 'Loyola Chicago' 'Indiana' 'Hawaii' 'Elon'\n",
            " 'Holy Cross' 'Vanderbilt' 'VCU' 'Monmouth' 'North Carolina A&T' 'Lamar'\n",
            " 'Howard' 'Furman' 'George Mason' 'Louisiana Lafayette' 'Marquette'\n",
            " 'Central Connecticut' 'Providence' 'Princeton' 'Virginia' 'Georgia St.'\n",
            " 'UAB' 'Florida St.' 'Duke' 'Purdue' 'New Orleans' 'Notre Dame' 'Wofford'\n",
            " 'California' 'Arizona' 'UTEP' 'Centenary' 'Appalachian St.' 'Brown'\n",
            " 'Illinois Chicago' 'Bucknell' 'Long Beach St.' 'Richmond' 'Seton Hall'\n",
            " 'Auburn' 'Stetson' 'Wake Forest' 'Illinois St.' 'Florida Atlantic'\n",
            " 'Texas Southern' 'San Diego St.' 'Clemson' 'Oklahoma St.' 'Nevada'\n",
            " 'Xavier' 'Michigan' 'Quinnipiac' 'Eastern Michigan' 'Belmont'\n",
            " 'McNeese St.' 'IPFW' 'Ohio' 'San Jose St.' 'TCU' 'Jackson St.'\n",
            " 'Milwaukee' 'FIU' 'Cornell' 'Weber St.' 'Gonzaga' 'Portland St.' 'Lehigh'\n",
            " 'Austin Peay' 'Eastern Illinois' 'Liberty' 'Western Kentucky' 'Idaho St.'\n",
            " 'Western Michigan' 'Missouri' 'North Texas' 'Siena' 'Army' 'DePaul'\n",
            " 'Louisville' 'Miami FL' 'Washington St.' 'Wisconsin' 'Arkansas St.'\n",
            " 'Arkansas' 'UCF' 'Mississippi' 'Fresno St.' 'Prairie View A&M' 'Samford'\n",
            " 'Bradley' 'Gardner Webb' 'Southern Utah' 'Houston' 'Virginia Tech'\n",
            " 'Mercer' 'Winthrop' 'Lipscomb' 'Delaware' 'Villanova' 'Towson'\n",
            " 'Georgetown' 'Arkansas Pine Bluff' 'Baylor' 'Jacksonville' 'Air Force'\n",
            " 'Kansas' 'Creighton' 'Dartmouth' 'American' 'Green Bay' 'Northeastern'\n",
            " 'Florida A&M' 'Northwestern St.' 'Georgia Southern' 'UCLA' 'USC' 'Akron'\n",
            " 'Loyola Marymount' 'Tulane' 'Nebraska' 'Delaware St.' 'Nicholls St.'\n",
            " 'Chattanooga' 'Niagara' 'Canisius' 'Tulsa' 'Michigan St.' 'Penn St.'\n",
            " \"St. John's\" 'Rhode Island' 'William & Mary' 'Southeastern Louisiana'\n",
            " 'Illinois' 'North Carolina' 'San Francisco' 'Texas A&M' 'Marist' 'UMKC'\n",
            " 'Oklahoma' 'Rice' 'Montana' 'Eastern Kentucky' 'UC Irvine' 'UC Davis'\n",
            " 'Northern Iowa' 'Evansville' 'Drake' 'Idaho' 'Massachusetts' 'Troy'\n",
            " 'George Washington' 'Sacred Heart' 'Robert Morris' 'High Point' 'Radford'\n",
            " 'Fairfield' 'Stephen F. Austin' 'South Carolina' 'San Diego'\n",
            " 'St. Bonaventure' \"Saint Joseph's\" 'Texas Tech' 'Charlotte'\n",
            " 'Arkansas Little Rock' 'Bethune Cookman' 'Yale' 'Penn' 'Grambling St.'\n",
            " \"Saint Peter's\" 'Stony Brook' 'Norfolk St.' 'Texas' 'Memphis' 'Miami OH'\n",
            " 'Alabama St.' 'Buffalo' 'Santa Clara' 'Iona' 'New Mexico St.'\n",
            " 'Northern Arizona' 'Arizona St.' 'Northern Colorado' 'Davidson'\n",
            " 'Duquesne' 'Sam Houston St.' 'Tennessee' 'Louisiana Monroe' 'Florida'\n",
            " 'Minnesota' 'Wright St.' 'Central Michigan' 'South Carolina St.'\n",
            " \"Mount St. Mary's\" 'IUPUI' 'Indiana St.' 'Cincinnati' 'La Salle'\n",
            " 'East Tennessee St.' 'Campbell' 'Coastal Carolina' 'Tennessee Martin'\n",
            " 'Charleston Southern' 'Syracuse' 'UC Riverside' 'Dayton' 'East Carolina'\n",
            " 'Iowa St.' 'Columbia' 'Temple' 'Loyola MD' 'Northwestern' 'Oregon' 'UTSA'\n",
            " 'Colgate' 'Oakland' 'Montana St.' 'Morgan St.' 'UT Rio Grande Valley'\n",
            " 'Portland' 'Kentucky' 'Utah' 'Western Carolina' 'Wyoming' 'Rutgers'\n",
            " 'Cleveland St.' 'VMI' 'Texas St.' 'Alcorn St.' 'Georgia'\n",
            " 'Maryland Eastern Shore' 'Iowa' 'Eastern Washington' 'Boise St.'\n",
            " 'Stanford' 'Mississippi Valley St.' 'Ohio St.' 'College of Charleston'\n",
            " 'Rider' 'Kent St.' 'UT Arlington' 'UMBC' 'Lafayette' 'UNC Asheville'\n",
            " 'SMU' 'Morehead St.' 'Tennessee St.' 'The Citadel' 'Marshall'\n",
            " 'UNC Wilmington' 'Southern' 'Kansas St.' 'Cal St. Northridge' 'Cal Poly'\n",
            " 'Middle Tennessee' 'Vermont' 'Colorado St.' 'Savannah St.' 'Maine'\n",
            " 'Coppin St.' 'Sacramento St.' 'Hampton' 'LIU Brooklyn' 'Jacksonville St.'\n",
            " 'St. Francis NY' 'Harvard' 'Valparaiso' 'Youngstown St.' 'Georgia Tech'\n",
            " 'BYU' 'Louisiana Tech' 'West Virginia' 'New Hampshire' 'Oral Roberts'\n",
            " 'Washington' 'UC Santa Barbara' 'UNC Greensboro' 'Mississippi St.'\n",
            " 'Hartford' 'Tennessee Tech' 'Murray St.' 'UNLV' 'New Mexico' 'Ball St.'\n",
            " 'Toledo' 'Texas A&M Corpus Chris' 'Denver' 'Saint Louis' 'Wichita St.'\n",
            " 'Fairleigh Dickinson' 'Southeast Missouri St.' 'Northern Illinois'\n",
            " 'Western Illinois' 'South Dakota St.' 'North Dakota St.' 'Kennesaw St.'\n",
            " 'North Carolina Central' 'USC Upstate' 'Bryant' 'Presbyterian'\n",
            " 'SIU Edwardsville' 'Cal St. Bakersfield' 'NJIT' 'Houston Baptist'\n",
            " 'Central Arkansas' 'Utah Valley' 'North Florida' 'Winston Salem St.'\n",
            " 'Florida Gulf Coast' 'Seattle' 'South Dakota' 'North Dakota'\n",
            " 'Nebraska Omaha' 'Northern Kentucky' 'Incarnate Word' 'Grand Canyon'\n",
            " 'UMass Lowell' 'Abilene Christian' 'Little Rock' 'Fort Wayne'\n",
            " 'Cal Baptist' 'North Alabama' 'Merrimack']\n"
          ]
        }
      ],
      "source": [
        "# Select distinct values from a column\n",
        "distinct_values = data['team'].unique()\n",
        "\n",
        "# Count distinct values in the 'team' column for the 'data' DataFrame\n",
        "distinct_count_data = data['team'].nunique()\n",
        "print(\"Train data set: Distinct count in team:\", distinct_count_data)\n",
        "print(distinct_values)"
      ]
    },
    {
      "cell_type": "code",
      "source": [
        "# Select distinct values from a column\n",
        "distinct_values = data_test['team'].unique()\n",
        "\n",
        "# Count distinct values in the 'team' column for the 'data' DataFrame\n",
        "distinct_count_data = data_test['team'].nunique()\n",
        "print(\"Test data set: Distinct count in team:\", distinct_count_data)\n",
        "print(distinct_values)"
      ],
      "metadata": {
        "colab": {
          "base_uri": "https://localhost:8080/"
        },
        "id": "fNSvGoI5C86o",
        "outputId": "9cf5aed5-b74d-4547-f73d-fc313ab48280"
      },
      "execution_count": 51,
      "outputs": [
        {
          "output_type": "stream",
          "name": "stdout",
          "text": [
            "Test data set: Distinct count in team: 347\n",
            "['Morgan St.' 'South Carolina St.' 'Binghamton' 'Illinois' 'Iowa St.'\n",
            " 'Ball St.' 'Cal Poly' 'Hartford' 'Florida St.' 'Georgia Tech' 'Weber St.'\n",
            " 'Cincinnati' 'Dayton' 'Colorado' 'Minnesota' 'Michigan' 'Drexel'\n",
            " 'Texas St.' 'Southern Utah' 'Florida Atlantic' 'Duquesne'\n",
            " 'Loyola Marymount' 'Wisconsin' 'DePaul' 'Vermont' 'North Carolina A&T'\n",
            " 'Southeastern Louisiana' 'Seton Hall' 'UC Riverside' 'Bryant'\n",
            " 'Michigan St.' 'Indiana St.' 'Texas A&M' 'Butler' 'Long Beach St.'\n",
            " 'Kentucky' 'Virginia' 'Richmond' 'Baylor' 'SMU' 'George Mason' 'Oregon'\n",
            " 'Kent St.' 'Old Dominion' 'VCU' 'Hofstra' 'Detroit' 'Denver' 'Louisville'\n",
            " 'Missouri' 'Bowling Green' 'Southern Illinois' 'Cal St. Bakersfield'\n",
            " 'Western Michigan' 'IUPUI' 'Valparaiso' 'College of Charleston'\n",
            " 'Mississippi St.' 'Idaho' 'Texas A&M Corpus Chris' 'Santa Clara'\n",
            " 'Middle Tennessee' 'Wake Forest' 'Houston Baptist' 'North Carolina'\n",
            " 'Southeast Missouri St.' 'Abilene Christian' 'Furman' 'La Salle'\n",
            " 'Cleveland St.' 'Virginia Tech' 'Kansas' 'Xavier' 'UC Santa Barbara'\n",
            " 'Florida A&M' 'Montana St.' 'Little Rock' 'Western Kentucky'\n",
            " 'Portland St.' 'Siena' 'Iona' 'Alcorn St.' \"Saint Joseph's\" 'Georgia St.'\n",
            " 'Texas Southern' 'Samford' 'Nicholls St.' 'Duke' 'Pacific' 'Bellarmine'\n",
            " 'Coppin St.' 'Miami FL' 'Jackson St.' 'Massachusetts' 'USC' 'Portland'\n",
            " 'Southern' 'North Carolina Central' 'Rhode Island' 'Fort Wayne'\n",
            " 'Eastern Michigan' 'New Hampshire' 'Mississippi' 'Tennessee Tech'\n",
            " 'San Diego' 'BYU' 'St. Francis PA' 'Oklahoma' 'Albany' 'Marist'\n",
            " 'Wright St.' 'Rice' 'Miami OH' 'Georgia' 'Appalachian St.'\n",
            " 'Jacksonville St.' 'Coastal Carolina' 'Marshall' 'Louisiana Tech'\n",
            " 'Chattanooga' 'North Carolina St.' 'San Diego St.' 'Central Arkansas'\n",
            " 'Rutgers' 'Texas' 'California' 'Ohio St.' 'Alabama' 'Grand Canyon'\n",
            " 'South Alabama' 'Toledo' 'Fordham' 'Temple' 'UNC Asheville'\n",
            " 'UC San Diego' 'LIU Brooklyn' 'Houston' 'Prairie View A&M' \"St. John's\"\n",
            " 'St. Francis NY' 'UT Rio Grande Valley' 'Delaware' 'Buffalo' 'Dixie St.'\n",
            " 'East Carolina' 'Evansville' 'Alabama St.' 'Eastern Illinois' 'Akron'\n",
            " 'Seattle' 'Marquette' 'Notre Dame' 'Niagara' 'Sacred Heart' 'Charlotte'\n",
            " 'Boston College' 'New Mexico St.' 'Boise St.' 'Southern Miss'\n",
            " \"Saint Mary's\" 'Cal Baptist' 'Towson' 'UC Irvine' 'Elon' 'Utah Valley'\n",
            " 'Creighton' 'Cal St. Fullerton' 'Loyola Chicago' 'Georgetown' 'UTEP'\n",
            " 'Eastern Washington' 'Clemson' 'McNeese St.' 'Mercer' 'Howard'\n",
            " 'Austin Peay' 'Tennessee' 'Vanderbilt' 'Fresno St.' 'UT Arlington' 'UAB'\n",
            " 'Western Carolina' 'Arkansas' 'San Jose St.' 'South Carolina'\n",
            " 'Wichita St.' 'George Washington' 'Gonzaga' 'Norfolk St.' 'UMass Lowell'\n",
            " 'Arkansas St.' 'Milwaukee' 'Iowa' 'Montana' 'Northwestern' 'Colgate'\n",
            " 'New Orleans' 'Northeastern' 'UMKC' 'Campbell' 'Arizona' 'Fairfield'\n",
            " 'Nebraska' 'Pittsburgh' 'Illinois Chicago' 'Central Michigan' 'Bradley'\n",
            " \"Mount St. Mary's\" 'Northern Iowa' 'San Francisco' 'Utah St.' 'TCU'\n",
            " 'Penn St.' 'North Texas' 'Fairleigh Dickinson' 'Louisiana Monroe'\n",
            " 'Charleston Southern' 'Nevada' 'Washington St.' 'Northern Kentucky'\n",
            " 'Pepperdine' 'Kansas St.' 'Quinnipiac' 'Delaware St.' 'Washington'\n",
            " 'Stony Brook' 'Nebraska Omaha' 'Arizona St.' 'Canisius' 'Gardner Webb'\n",
            " 'Hampton' 'Providence' 'Syracuse' 'Boston University' 'Wyoming'\n",
            " 'Bucknell' 'Tarleton St.' 'James Madison' 'NJIT' 'FIU' 'UTSA' 'Liberty'\n",
            " 'High Point' 'Auburn' 'UMBC' 'Tennessee St.' 'American'\n",
            " 'North Dakota St.' 'Ohio' 'Wagner' 'Villanova' 'South Florida'\n",
            " 'Manhattan' 'Lafayette' 'Lehigh' 'Loyola MD' 'Murray St.' 'Saint Louis'\n",
            " 'Morehead St.' 'Belmont' 'Eastern Kentucky' 'Lipscomb' 'Grambling St.'\n",
            " 'VMI' 'Tulsa' 'South Dakota' 'Indiana' 'Holy Cross' 'Georgia Southern'\n",
            " 'Monmouth' 'Youngstown St.' 'Drake' 'Radford' 'Florida' 'UNLV'\n",
            " 'The Citadel' 'Connecticut' 'Memphis' 'UCF' 'Lamar' 'Green Bay'\n",
            " 'East Tennessee St.' 'SIU Edwardsville' 'Louisiana Lafayette'\n",
            " 'Robert Morris' 'Air Force' 'Davidson' 'Winthrop' 'UNC Greensboro'\n",
            " 'UNC Wilmington' 'Cal St. Northridge' 'Stephen F. Austin'\n",
            " 'St. Bonaventure' 'Illinois St.' 'Sacramento St.' 'Wofford'\n",
            " 'West Virginia' 'Maryland' 'Hawaii' 'Oregon St.' 'New Mexico'\n",
            " 'Tennessee Martin' 'Northern Colorado' 'Stetson' 'North Florida' 'UCLA'\n",
            " 'Stanford' 'Northern Arizona' 'Missouri St.' 'Jacksonville'\n",
            " 'Northwestern St.' 'William & Mary' 'Texas Tech' 'Oklahoma St.' 'Navy'\n",
            " 'Arkansas Pine Bluff' 'Alabama A&M' 'Army' 'UC Davis' 'Tulane' 'Purdue'\n",
            " 'North Dakota' 'LSU' 'Troy' 'Western Illinois' \"Saint Peter's\"\n",
            " 'Florida Gulf Coast' 'North Alabama' 'Longwood' 'Idaho St.' 'Rider'\n",
            " 'South Dakota St.' 'USC Upstate' 'Oral Roberts' 'Central Connecticut'\n",
            " 'Colorado St.' 'Northern Illinois' 'Presbyterian' 'Kennesaw St.'\n",
            " 'Oakland' 'Utah' 'Maine' 'Sam Houston St.' 'Incarnate Word' 'Chicago St.'\n",
            " 'Merrimack' 'Mississippi Valley St.']\n"
          ]
        }
      ]
    },
    {
      "cell_type": "code",
      "execution_count": 52,
      "metadata": {
        "colab": {
          "base_uri": "https://localhost:8080/"
        },
        "id": "zgW-Jiml83EQ",
        "outputId": "2d8ff5f1-ac7f-49ae-a97d-7077dd01c3d4"
      },
      "outputs": [
        {
          "output_type": "stream",
          "name": "stdout",
          "text": [
            "[  0   1   2   3   4   5   6   7   8   9  10  11  12  13  14  15  16  17\n",
            "  18  19  20  21  22  23  24  25  26  27  28  29  30  31  32  33  34  35\n",
            "  36  37  38  39  40  41  42  43  44  45  46  47  48  49  50  51  52  53\n",
            "  54  55  56  57  58  59  60  61  62  63  64  65  66  67  68  69  70  71\n",
            "  72  73  74  75  76  77  78  79  80  81  82  83  84  85  86  87  88  89\n",
            "  90  91  92  93  94  95  96  97  98  99 100 101 102 103 104 105 106 107\n",
            " 108 109 110 111 112 113 114 115 116 117 118 119 120 121 122 123 124 125\n",
            " 126 127 128 129 130 131 132 133 134 135 136 137 138 139 140 141 142 143\n",
            " 144 145 146 147 148 149 150 151 152 153 154 155 156 157 158 159 160 161\n",
            " 162 163 164 165 166 167 168 169 170 171 172 173 174 175 176 177 178 179\n",
            " 180 181 182 183 184 185 186 187 188 189 190 191 192 193 194 195 196 197\n",
            " 198 199 200 201 202 203 204 205 206 207 208 209 210 211 212 213 214 215\n",
            " 216 217 218 219 220 221 222 223 224 225 226 227 228 229 230 231 232 233\n",
            " 234 235 236 237 238 239 240 241 242 243 244 245 246 247 248 249 250 251\n",
            " 252 253 254 255 256 257 258 259 260 261 262 263 264 265 266 267 268 269\n",
            " 270 271 272 273 274 275 276 277 278 279 280 281 282 283 284 285 286 287\n",
            " 288 289 290 291 292 293 294 295 296 297 298 299 300 301 302 303 304 305\n",
            " 306 307 308 309 310 311 312 313 314 315 316 317 318 319 320 321 322 323\n",
            " 324 325 326 327 328 329 330 331 332 333 334 335 336 337 338 339 340 341\n",
            " 342 343 344 345 346]\n"
          ]
        }
      ],
      "source": [
        "data['team_number'] = pd.factorize(data['team'])[0]\n",
        "# Select distinct values from a column\n",
        "distinct_values = data['team_number'].unique()\n",
        "\n",
        "data_test['team_number'] = pd.factorize(data_test['team'])[0]\n",
        "# Select distinct values from a column\n",
        "distinct_values = data_test['team_number'].unique()\n",
        "\n",
        "# Print the distinct values\n",
        "print(distinct_values)"
      ]
    },
    {
      "cell_type": "markdown",
      "metadata": {
        "id": "RdpalgD5uw09"
      },
      "source": [
        "###Mapping conf to conf_number"
      ]
    },
    {
      "cell_type": "code",
      "execution_count": 53,
      "metadata": {
        "colab": {
          "base_uri": "https://localhost:8080/"
        },
        "id": "MWbiZK4F3dtD",
        "outputId": "21335f50-2f89-471b-9a24-0c4e592677ec"
      },
      "outputs": [
        {
          "output_type": "stream",
          "name": "stdout",
          "text": [
            "['SB' 'WAC' 'BE' 'WCC' 'BW' 'Horz' 'ind' 'A10' 'NEC' 'ACC' 'SEC' 'AE'\n",
            " 'MAAC' 'Pat' 'SWAC' 'CAA' 'MVC' 'MAC' 'B12' 'CUSA' 'P10' 'B10' 'SC'\n",
            " 'MEAC' 'Slnd' 'Ivy' 'Sum' 'ASun' 'MWC' 'BSky' 'OVC' 'BSth' 'GWC' 'P12'\n",
            " 'Amer' 'Ind']\n",
            "['MEAC' 'AE' 'B10' 'B12' 'MAC' 'BW' 'ACC' 'BSky' 'Amer' 'A10' 'P12' 'CAA'\n",
            " 'SB' 'CUSA' 'WCC' 'BE' 'Slnd' 'NEC' 'MVC' 'SEC' 'Horz' 'Sum' 'OVC' 'SC'\n",
            " 'MAAC' 'SWAC' 'ASun' 'MWC' 'WAC' 'BSth' 'Pat']\n"
          ]
        }
      ],
      "source": [
        "# Select distinct values from a column\n",
        "distinct_values = data['conf'].unique()\n",
        "# Print the distinct values\n",
        "print(distinct_values)\n",
        "\n",
        "# Select distinct values from a column\n",
        "distinct_values = data_test['conf'].unique()\n",
        "# Print the distinct values\n",
        "print(distinct_values)"
      ]
    },
    {
      "cell_type": "code",
      "execution_count": 54,
      "metadata": {
        "colab": {
          "base_uri": "https://localhost:8080/"
        },
        "id": "v9X9RY_W7R8z",
        "outputId": "45992f48-00fa-437e-cf87-5ab764eec6b0"
      },
      "outputs": [
        {
          "output_type": "stream",
          "name": "stdout",
          "text": [
            "[ 0  1  2  3  4  5  6  7  8  9 10 11 12 13 14 15 16 17 18 19 20 21 22 23\n",
            " 24 25 26 27 28 29 30]\n"
          ]
        }
      ],
      "source": [
        "data['conf_number'] = pd.factorize(data['conf'])[0]\n",
        "# Select distinct values from a column\n",
        "distinct_values = data['conf_number'].unique()\n",
        "\n",
        "data_test['conf_number'] = pd.factorize(data_test['conf'])[0]\n",
        "# Select distinct values from a column\n",
        "distinct_values = data_test['conf_number'].unique()\n",
        "\n",
        "# Print the distinct values\n",
        "print(distinct_values)"
      ]
    },
    {
      "cell_type": "markdown",
      "source": [
        "###Mapping yr to yr_number"
      ],
      "metadata": {
        "id": "-QYABzNE3Fwl"
      }
    },
    {
      "cell_type": "code",
      "source": [
        "#Accuracy: 0.9937270364728022\n",
        "\n",
        "# Select distinct values from a column\n",
        "distinct_values = data['yr'].unique()\n",
        "# Print the distinct values\n",
        "print(distinct_values)\n",
        "\n",
        "# Select distinct values from a column\n",
        "distinct_values = data_test['yr'].unique()\n",
        "# Print the distinct values\n",
        "print(distinct_values)"
      ],
      "metadata": {
        "colab": {
          "base_uri": "https://localhost:8080/"
        },
        "id": "nl9P_eNa3Lv5",
        "outputId": "b4fa89ee-3240-4765-fe87-a743fcd54565"
      },
      "execution_count": 55,
      "outputs": [
        {
          "output_type": "stream",
          "name": "stdout",
          "text": [
            "['So' 'Sr' 'Jr' 'Fr' '0' 0 '57.1' '42.9' 'None']\n",
            "['Sr' 'Jr' 'So' 'Fr' 'None']\n"
          ]
        }
      ]
    },
    {
      "cell_type": "code",
      "source": [
        "#Student’s year of study: `Fr` for freshmen, `So` for sophomores, `Jr` for juniors, `Sr` for seniors\n",
        "valid_years = ['Fr', 'So', 'Jr', 'Sr']\n",
        "\n",
        "data = data[data['yr'].isin(valid_years)]\n",
        "data['yr_number'] = pd.factorize(data['yr'])[0]\n",
        "# Select distinct values from a column\n",
        "distinct_values = data['yr_number'].unique()\n",
        "\n",
        "#data_test = data_test[data_test['yr'].isin(valid_years)]\n",
        "data_test['yr_number'] = pd.factorize(data_test['yr'])[0]\n",
        "# Select distinct values from a column\n",
        "distinct_values = data_test['yr_number'].unique()\n",
        "\n",
        "# Print the distinct values\n",
        "print(distinct_values)"
      ],
      "metadata": {
        "colab": {
          "base_uri": "https://localhost:8080/"
        },
        "id": "n4t_FIcy3Rr6",
        "outputId": "89fdd72a-d843-440d-9fe3-b0464078ae56"
      },
      "execution_count": 56,
      "outputs": [
        {
          "output_type": "stream",
          "name": "stdout",
          "text": [
            "[0 1 2 3 4]\n"
          ]
        },
        {
          "output_type": "stream",
          "name": "stderr",
          "text": [
            "<ipython-input-56-f9b24e522649>:5: SettingWithCopyWarning: \n",
            "A value is trying to be set on a copy of a slice from a DataFrame.\n",
            "Try using .loc[row_indexer,col_indexer] = value instead\n",
            "\n",
            "See the caveats in the documentation: https://pandas.pydata.org/pandas-docs/stable/user_guide/indexing.html#returning-a-view-versus-a-copy\n",
            "  data['yr_number'] = pd.factorize(data['yr'])[0]\n"
          ]
        }
      ]
    },
    {
      "cell_type": "markdown",
      "source": [
        "###Mapping ht to ht_number"
      ],
      "metadata": {
        "id": "-9XSmRdx4h-f"
      }
    },
    {
      "cell_type": "code",
      "source": [
        "# Select distinct values from a column\n",
        "distinct_values = data['ht'].unique()\n",
        "# Print the distinct values\n",
        "print(distinct_values)\n",
        "\n",
        "# Select distinct values from a column\n",
        "distinct_values = data_test['ht'].unique()\n",
        "# Print the distinct values\n",
        "print(distinct_values)"
      ],
      "metadata": {
        "colab": {
          "base_uri": "https://localhost:8080/"
        },
        "id": "lZLlYx7v4w-1",
        "outputId": "ddf782fb-f29c-4299-ca72-3b396756f01c"
      },
      "execution_count": 57,
      "outputs": [
        {
          "output_type": "stream",
          "name": "stdout",
          "text": [
            "['2-Jun' '4-Jun' '8-Jun' '1-Jun' '5-Jun' 'Jun-00' '6-Jun' '9-Jun' '3-Jun'\n",
            " '11-Jun' '7-Jun' '10-May' '10-Jun' '11-May' '9-May' 'Jul-00' '7-May'\n",
            " '5-Jul' '8-May' '6-May' '2-Jul' '1-Jul' '-' '3-May' '3-Jul' 'Apr-00'\n",
            " '5-May' '4-Jul' \"6'4\" '4-May' '0' '1-May' '6-Jul' '5-Apr' '2-May' 0]\n",
            "['4-Jun' 'Jun-00' '9-Jun' '2-Jun' '3-Jun' '10-Jun' '1-Jun' '6-Jun' '5-Jun'\n",
            " '11-Jun' '7-Jun' '8-Jun' '11-May' '8-May' '1-Jul' 'Jul-00' '10-May'\n",
            " '3-Jul' '9-May' '2-Jul' '2-May' '7-May' '6-May' '4-Jul' 0 'None']\n"
          ]
        }
      ]
    },
    {
      "cell_type": "code",
      "source": [
        "data['ht_number'] = pd.factorize(data['ht'])[0]\n",
        "# Select distinct values from a column\n",
        "distinct_values = data['ht_number'].unique()\n",
        "# Print the distinct values\n",
        "print(distinct_values)\n",
        "\n",
        "data_test['ht_number'] = pd.factorize(data_test['ht'])[0]\n",
        "# Select distinct values from a column\n",
        "distinct_values = data_test['ht_number'].unique()\n",
        "# Print the distinct values\n",
        "print(distinct_values)"
      ],
      "metadata": {
        "colab": {
          "base_uri": "https://localhost:8080/"
        },
        "id": "S1h8hsrV45s3",
        "outputId": "7ddf0ac3-9595-483f-8bc0-07a9e55ddd41"
      },
      "execution_count": 58,
      "outputs": [
        {
          "output_type": "stream",
          "name": "stdout",
          "text": [
            "[ 0  1  2  3  4  5  6  7  8  9 10 11 12 13 14 15 16 17 18 19 20 21 22 23\n",
            " 24 25 26 27 28 29 30 31 32 33 34 35]\n",
            "[ 0  1  2  3  4  5  6  7  8  9 10 11 12 13 14 15 16 17 18 19 20 21 22 23\n",
            " 24 25]\n"
          ]
        }
      ]
    },
    {
      "cell_type": "markdown",
      "source": [
        "###Mapping num to num_number"
      ],
      "metadata": {
        "id": "Xwss6UsW5NMt"
      }
    },
    {
      "cell_type": "code",
      "source": [
        "# Select distinct values from a column\n",
        "distinct_values = data['num'].unique()\n",
        "# Print the distinct values\n",
        "print(distinct_values)\n",
        "\n",
        "# Select distinct values from a column\n",
        "distinct_values = data_test['num'].unique()\n",
        "# Print the distinct values\n",
        "print(distinct_values)"
      ],
      "metadata": {
        "colab": {
          "base_uri": "https://localhost:8080/"
        },
        "id": "XLJkU9JO5RpQ",
        "outputId": "02a58a86-5717-4449-b111-95d68be43d79"
      },
      "execution_count": 59,
      "outputs": [
        {
          "output_type": "stream",
          "name": "stdout",
          "text": [
            "[0 '53' '5' '14' '22' '20' '34' '24' '54' '15' '13' '10' '21' '32' '12'\n",
            " '51' '31' '33' '1' '45' '50' '3' '23' '2' '4' '55' '35' '42' '25' '41'\n",
            " '52' '11' '40' '30' '43' '0' '44' '23B' 'None' '26' '99' '4A' '31/24'\n",
            " '--' 10.0 22.0 3.0 23.0 30.0 13.0 15.0 1.0 5.0 35.0 2.0 32.0 11.0 40.0\n",
            " 33.0 4.0 12.0 20.0 50.0 25.0 44.0 21.0 31.0 14.0 34.0 24.0 55.0 45.0 52.0\n",
            " 51.0 41.0 54.0 42.0 43.0 53.0]\n",
            "['25.0' '0.0' '32.0' '5.0' '1.0' '30.0' '33.0' '45.0' '12.0' '41.0' '24.0'\n",
            " '51.0' '22.0' '15.0' '20.0' '10.0' '2.0' '11.0' '3.0' '4.0' '14.0' '35.0'\n",
            " '52.0' '13.0' '21.0' '23.0' '44.0' '50.0' '31.0' '34.0' '55.0' 0 '42.0'\n",
            " '54.0' '40.0' '23' '14' '0' '1' '2' '32' '22' '4' '25' '10' '5' '11' '12'\n",
            " '15' '3' '44' '13' '30' '20' '50' '55' '35' '33' '24' '21' '42' '41' '45'\n",
            " '34' '43' '52' '53' '40' '31' '54' '51' 'None']\n"
          ]
        }
      ]
    },
    {
      "cell_type": "code",
      "source": [
        "data['num_number'] = pd.factorize(data['num'])[0]\n",
        "# Select distinct values from a column\n",
        "distinct_values = data['num_number'].unique()\n",
        "\n",
        "data_test['num_number'] = pd.factorize(data_test['num'])[0]\n",
        "# Select distinct values from a column\n",
        "distinct_values = data_test['num_number'].unique()\n",
        "\n",
        "# Print the distinct values\n",
        "print(distinct_values)"
      ],
      "metadata": {
        "colab": {
          "base_uri": "https://localhost:8080/"
        },
        "id": "HcfysUjo5VvF",
        "outputId": "650bb723-708e-443c-b675-26e5eaa2990e"
      },
      "execution_count": 60,
      "outputs": [
        {
          "output_type": "stream",
          "name": "stdout",
          "text": [
            "[ 0  1  2  3  4  5  6  7  8  9 10 11 12 13 14 15 16 17 18 19 20 21 22 23\n",
            " 24 25 26 27 28 29 30 31 32 33 34 35 36 37 38 39 40 41 42 43 44 45 46 47\n",
            " 48 49 50 51 52 53 54 55 56 57 58 59 60 61 62 63 64 65 66 67 68 69 70 71]\n"
          ]
        }
      ]
    },
    {
      "cell_type": "markdown",
      "source": [
        "###Mapping player_id to player_number"
      ],
      "metadata": {
        "id": "lMAbHA1L-WXg"
      }
    },
    {
      "cell_type": "code",
      "source": [
        "# Select distinct values from a column\n",
        "distinct_values = data['player_id'].unique()\n",
        "\n",
        "# Count distinct values in the 'layer_id' column for the 'data' DataFrame\n",
        "distinct_count_data = data['player_id'].nunique()\n",
        "print(\"Train data set: Distinct count in player_id:\", distinct_count_data)\n",
        "print(distinct_values)\n",
        "\n",
        "# Select distinct values from a column\n",
        "distinct_values = data_test['player_id'].unique()\n",
        "\n",
        "# Count distinct values in the 'player_id' column for the 'data' DataFrame\n",
        "distinct_count_data = data_test['player_id'].nunique()\n",
        "print(\"Test data set: Distinct count in player_id:\", distinct_count_data)\n",
        "print(distinct_values)"
      ],
      "metadata": {
        "colab": {
          "base_uri": "https://localhost:8080/"
        },
        "id": "PoMDg0IL-cNH",
        "outputId": "650889f7-f9da-4e23-c6d4-569d6b3f8664"
      },
      "execution_count": 61,
      "outputs": [
        {
          "output_type": "stream",
          "name": "stdout",
          "text": [
            "Train data set: Distinct count in player_id: 23740\n",
            "['7be2aead-da4e-4d13-a74b-4c1e692e2368'\n",
            " '61de55d9-1582-4ea4-b593-44f6aa6524a6'\n",
            " 'efdc4cfc-9dd0-4bf8-acef-7273e4d5b655' ...\n",
            " 'e95d08eb-1273-4094-9173-c47368222c0d'\n",
            " '2f315a7b-2e82-44a2-8597-1779102ace09'\n",
            " '65571c18-b2b4-4ba6-84db-7357a76e6f59']\n",
            "Test data set: Distinct count in player_id: 4970\n",
            "['cf302b4d-84f7-4124-a25d-a75eed31978b'\n",
            " 'f91837cd-4f49-4b70-963d-aeb82c6ce3da'\n",
            " '53ec2a29-1e7d-4c6d-86d7-d60d02af8916' ...\n",
            " 'f8df22c4-1602-4fab-896d-8820951aae2f'\n",
            " 'b791c69a-f769-4163-afda-051a6fd20a9d'\n",
            " '18b51f5d-4746-4121-88fd-c8d0a1399130']\n"
          ]
        }
      ]
    },
    {
      "cell_type": "code",
      "source": [
        "data['player_number'] = pd.factorize(data['player_id'])[0]\n",
        "# Select distinct values from a column\n",
        "distinct_values = data['player_number'].unique()\n",
        "\n",
        "data_test['player_number'] = pd.factorize(data_test['player_id'])[0]\n",
        "# Select distinct values from a column\n",
        "distinct_values = data_test['player_number'].unique()\n",
        "\n",
        "# Print the distinct values\n",
        "print(distinct_values)"
      ],
      "metadata": {
        "colab": {
          "base_uri": "https://localhost:8080/"
        },
        "id": "oI8seycE-gI9",
        "outputId": "de17518b-9c7b-421a-f516-7b81f8c493c8"
      },
      "execution_count": 62,
      "outputs": [
        {
          "output_type": "stream",
          "name": "stdout",
          "text": [
            "[   0    1    2 ... 4967 4968 4969]\n"
          ]
        }
      ]
    },
    {
      "cell_type": "markdown",
      "metadata": {
        "id": "VWVJdTanf66C"
      },
      "source": [
        "#4. Calculate Information Gain (IG)\n",
        "To know which feature is the important factor to identify, drafted = 1.\n",
        "\n"
      ]
    },
    {
      "cell_type": "code",
      "execution_count": 341,
      "metadata": {
        "colab": {
          "base_uri": "https://localhost:8080/"
        },
        "id": "FKev8nSopltD",
        "outputId": "9c23c7b4-28d6-48bc-b893-24fd6063d1ff"
      },
      "outputs": [
        {
          "output_type": "stream",
          "name": "stdout",
          "text": [
            "pick: 0.04722748455883041\n",
            "dporpag: 0.023173642452797516\n",
            "porpag: 0.02209395328046071\n",
            "gbpm: 0.02137641882506547\n",
            "bpm: 0.01929367189522757\n",
            "stops: 0.01891403267233205\n",
            "adjoe: 0.0184724792088804\n",
            "ogbpm: 0.018440033010773127\n",
            "twoPM: 0.016792989206058317\n",
            "pts: 0.01670403583680946\n",
            "Rec_Rank: 0.01662807488197704\n",
            "twoPA: 0.015778410837486545\n",
            "obpm: 0.015260257811865019\n",
            "FTM: 0.014656784261478095\n",
            "FTA: 0.014370988515003735\n",
            "dunks_ratio: 0.013852806354480718\n",
            "dreb: 0.012937705257783372\n",
            "mp: 0.012127675400695481\n",
            "dunksmade: 0.01182167696821046\n",
            "rimmade: 0.011534967116884065\n",
            "treb: 0.011521847042461397\n",
            "adrtg: 0.011460759664863707\n",
            "GP: 0.011027279305584448\n",
            "midmade: 0.011003207219471345\n",
            "midmade_midmiss: 0.011002796593698294\n",
            "dunksmiss_dunksmade: 0.01015472622238478\n",
            "Min_per: 0.009658029716876126\n",
            "rimmade_rimmiss: 0.00953723686484953\n",
            "blk: 0.009444264257837398\n",
            "stl: 0.009172668597190348\n",
            "dgbpm: 0.008860093193322816\n",
            "Ortg: 0.0085751910502474\n",
            "oreb: 0.008256743379519982\n",
            "dbpm: 0.0076938822180041555\n",
            "usg: 0.007410819396521662\n",
            "ast: 0.007397447361420895\n",
            "TS_per: 0.006998972755544619\n",
            "eFG: 0.006319019077041355\n",
            "rim_ratio: 0.0062148919647613265\n",
            "drtg: 0.006011207804366814\n",
            "twoP_per: 0.005930858720300525\n",
            "mid_ratio: 0.00566275822994633\n",
            "pfr: 0.0048653166299826855\n",
            "FT_per: 0.00469581489482962\n",
            "TPM: 0.004547912446203339\n",
            "TPA: 0.004433219373910169\n",
            "ast_tov: 0.004203026040732749\n",
            "TO_per: 0.004169097626941176\n",
            "blk_per: 0.0036277182793506\n",
            "DRB_per: 0.0030389712677747482\n",
            "ftr: 0.0030313187211686854\n",
            "TP_per: 0.002607741118421214\n",
            "stl_per: 0.002338760319977262\n",
            "AST_per: 0.002153193363255479\n",
            "year: 0.0015111241212335536\n",
            "ORB_per: 0.0014375636934614855\n",
            "Top x features with highest information gain: ['pick', 'dporpag', 'porpag', 'gbpm', 'bpm', 'stops', 'adjoe', 'ogbpm', 'twoPM', 'pts', 'Rec_Rank', 'twoPA', 'obpm', 'FTM', 'FTA', 'dunks_ratio', 'dreb', 'mp', 'dunksmade', 'rimmade', 'treb', 'adrtg', 'GP', 'midmade', 'midmade_midmiss', 'dunksmiss_dunksmade', 'Min_per', 'rimmade_rimmiss', 'blk', 'stl', 'dgbpm', 'Ortg', 'oreb', 'dbpm', 'usg']\n"
          ]
        }
      ],
      "source": [
        "import pandas as pd\n",
        "from sklearn.feature_selection import mutual_info_classif\n",
        "\n",
        "\n",
        "# Split the data into features and target variable\n",
        "X = data.drop(['team', 'conf', 'yr', 'ht', 'num', 'type', 'player_id','drafted'], axis=1)\n",
        "y = data['drafted']\n",
        "\n",
        "# Calculate information gain of each feature\n",
        "info_gain = mutual_info_classif(X, y)\n",
        "\n",
        "\n",
        "# Create a DataFrame with feature names and information gain\n",
        "ig_df = pd.DataFrame({\"feature\": X.columns, \"ig\": info_gain})\n",
        "\n",
        "# Sort the DataFrame by information gain in descending order\n",
        "ig_df = ig_df.sort_values(by=\"ig\", ascending=False)\n",
        "\n",
        "# Create a dictionary to store the information gain of each feature\n",
        "info_gain_dict = {}\n",
        "for i in range(len(X.columns)):\n",
        "    info_gain_dict[X.columns[i]] = info_gain[i]\n",
        "\n",
        "# Sort the dictionary by value in reverse order and print the items\n",
        "for feature, ig in sorted(info_gain_dict.items(), key=lambda x: x[1], reverse=True):\n",
        "    print(f\"{feature}: {ig}\")\n",
        "\n",
        "\n",
        "# Sort the dictionary by information gain score in descending order\n",
        "sorted_info_gain = sorted(info_gain_dict.items(), key=lambda x: x[1], reverse=True)\n",
        "\n",
        "# Select the top x features with highest information gain\n",
        "top_x_features = [sorted_info_gain[i][0] for i in range(35)]\n",
        "print(\"Top x features with highest information gain:\", top_x_features)"
      ]
    },
    {
      "cell_type": "markdown",
      "metadata": {
        "id": "nRRhaknRy5qJ"
      },
      "source": [
        "#5. Calculate Principal Component Analysis (PCA)\n",
        "Calculate PCA 80%, 90%, and 100%, but the number of components for 80% and 90% is almost the same as 100%. Then I decide to use 100% to experiment.\n",
        "\n",
        "*   80% = n_components = np.where(cumulative_var_ratio >= 0.2)[0][0] + 1\n",
        "*   90% = n_components = np.where(cumulative_var_ratio >= 0.1)[0][0] + 1\n",
        "*   100% = n_components = np.where(cumulative_var_ratio >= 1.0)[0][0] + 1"
      ]
    },
    {
      "cell_type": "code",
      "execution_count": null,
      "metadata": {
        "colab": {
          "base_uri": "https://localhost:8080/"
        },
        "id": "K1jxCXYZzVLm",
        "outputId": "715cb730-b879-4388-d3e8-95fa8afb67c6"
      },
      "outputs": [
        {
          "output_type": "stream",
          "name": "stdout",
          "text": [
            "Number of classes =  2\n",
            "[5.76882237e-01 1.33148124e-01 5.93057878e-02 4.79607827e-02\n",
            " 3.85014499e-02 3.49355639e-02 2.30192006e-02 1.96848418e-02\n",
            " 1.72315441e-02 1.45262370e-02 9.26094857e-03 7.56194962e-03\n",
            " 6.74707268e-03 4.26382666e-03 2.80995537e-03 1.48926918e-03\n",
            " 1.06557712e-03 7.14904552e-04 4.99959892e-04 3.90767685e-04]\n"
          ]
        },
        {
          "output_type": "display_data",
          "data": {
            "text/plain": [
              "<Figure size 640x480 with 1 Axes>"
            ],
            "image/png": "[encoded data removed]"
          },
          "metadata": {}
        },
        {
          "output_type": "stream",
          "name": "stdout",
          "text": [
            "[0.577 0.71  0.769 0.817 0.856 0.891 0.914 0.934 0.951 0.966 0.975 0.983\n",
            " 0.99  0.994 0.997 0.998 0.999 1.    1.    1.   ]\n",
            "Number of Components (>Z%) =  6\n",
            "Data Shape =  (54925, 70)\n"
          ]
        }
      ],
      "source": [
        "import pandas as pd\n",
        "import numpy as np\n",
        "from sklearn.preprocessing import StandardScaler\n",
        "from sklearn.decomposition import PCA\n",
        "import matplotlib.pyplot as plt\n",
        "\n",
        "# Split the data into features and target variable\n",
        "#X = top_x_features\n",
        "X_top_x = X[top_x_features]\n",
        "y = data['drafted']\n",
        "\n",
        "\n",
        "# Let's grab the data we'll need\n",
        "n_classes = len(np.unique(data['drafted'])) # classes\n",
        "print(\"Number of classes = \",n_classes)\n",
        "labels = data['drafted']\n",
        "\n",
        "# Scale the features\n",
        "scaler = StandardScaler()\n",
        "X_scaled = scaler.fit_transform(X_top_x)\n",
        "\n",
        "# Apply PCA\n",
        "pca = PCA()\n",
        "X_pca = pca.fit_transform(X_scaled)\n",
        "\n",
        "# Print the explained variance ratio\n",
        "print(pca.explained_variance_ratio_)\n",
        "\n",
        "\n",
        "# Calculate the cumulative sum of the explained variance ratio\n",
        "cumulative_var_ratio = np.cumsum(np.round(pca.explained_variance_ratio_, decimals=3))\n",
        "\n",
        "# Find the number of principal components that explain at least 80% of the total variance\n",
        "n_components = 6#np.where(cumulative_var_ratio >= 0.2)[0][0] + 1\n",
        "\n",
        "# Select the first n_components principal components from the transformed data\n",
        "X_pca_selected = X_pca[:, :n_components]\n",
        "\n",
        "plt.ylabel('% Variance Explained')\n",
        "plt.xlabel('# of Features')\n",
        "plt.title('PCA Analysis')\n",
        "plt.plot(cumulative_var_ratio)\n",
        "plt.show()\n",
        "\n",
        "#Cumulative variance\n",
        "print(cumulative_var_ratio)\n",
        "print('Number of Components (>Z%) = ', n_components)\n",
        "print('Data Shape = ', data.shape)"
      ]
    },
    {
      "cell_type": "markdown",
      "metadata": {
        "id": "8V2s_dNymCFf"
      },
      "source": [
        "#6. Data Classification - Logistic regression"
      ]
    },
    {
      "cell_type": "markdown",
      "metadata": {
        "id": "dF7RxNRVmBKH"
      },
      "source": [
        "##Logistic regression - Find the best hyperparameter set\n"
      ]
    },
    {
      "cell_type": "markdown",
      "source": [
        "###Original"
      ],
      "metadata": {
        "id": "D7JEum90qTVM"
      }
    },
    {
      "cell_type": "code",
      "source": [
        "import numpy as np\n",
        "import seaborn as sns\n",
        "import matplotlib.pyplot as plt\n",
        "from sklearn.linear_model import LogisticRegression\n",
        "from sklearn.model_selection import train_test_split, GridSearchCV\n",
        "from sklearn.metrics import accuracy_score, precision_score, recall_score, f1_score, confusion_matrix\n",
        "\n",
        "# Split the data into training and testing sets\n",
        "\n",
        "X = data.drop(['team', 'conf', 'yr', 'ht', 'num', 'type', 'player_id','drafted'], axis=1)\n",
        "y = data['drafted']\n",
        "\n",
        "#X = X[top_x_features]\n",
        "#X_train, X_test, y_train, y_test = train_test_split(X_top_x, y, test_size=0.2, random_state=42)\n",
        "X_train, X_test, y_train, y_test = train_test_split(X, y, test_size=0.2, random_state=42)\n",
        "\n",
        "# Create a logistic regression classifier object\n",
        "clf = LogisticRegression(max_iter=100)\n",
        "\n",
        "# Define the hyperparameters to tune\n",
        "param_grid = {\n",
        "    'penalty': ['l1', 'l2'],\n",
        "    'C': [0.01, 0.1, 1, 10],\n",
        "}\n",
        "\n",
        "# Perform grid search with cross-validation\n",
        "grid_search = GridSearchCV(clf, param_grid, cv=5)\n",
        "grid_search.fit(X_train, y_train)\n",
        "\n",
        "# Get the best hyperparameters\n",
        "best_params = grid_search.best_params_\n",
        "print('Best Hyperparameters:', best_params)\n",
        "\n",
        "# Initialize a new logistic regression classifier with the best hyperparameters\n",
        "best_clf = LogisticRegression(**best_params, max_iter=1000)\n",
        "\n",
        "# Train the classifier on the training data\n",
        "best_clf.fit(X_train, y_train)\n",
        "\n",
        "# Test the classifier on the testing data\n",
        "y_pred = best_clf.predict(X_test)\n",
        "\n",
        "# Evaluate the performance of the classifier\n",
        "accuracy = accuracy_score(y_test, y_pred)\n",
        "precision = precision_score(y_test, y_pred)\n",
        "recall = recall_score(y_test, y_pred)\n",
        "f1 = f1_score(y_test, y_pred)\n",
        "cm = confusion_matrix(y_test, y_pred)\n",
        "\n",
        "print('Accuracy:', accuracy)\n",
        "print('Precision:', precision)\n",
        "print('Recall:', recall)\n",
        "print('F1 Score:', f1)\n",
        "print('Confusion Matrix:\\n', cm)\n",
        "print('Data Shape = ', data.shape)\n",
        "\n",
        "# create heatmap visualization\n",
        "sns.heatmap(cm, annot=True, cmap='Reds', fmt='g')\n",
        "plt.xlabel('Predicted labels')\n",
        "plt.ylabel('Test labels')\n",
        "plt.show()"
      ],
      "metadata": {
        "colab": {
          "base_uri": "https://localhost:8080/",
          "height": 1000
        },
        "id": "N2n-PsJFqSAd",
        "outputId": "e73e1d10-1101-473c-806c-f7a9dddc1d89"
      },
      "execution_count": 63,
      "outputs": [
        {
          "output_type": "stream",
          "name": "stderr",
          "text": [
            "/usr/local/lib/python3.10/dist-packages/sklearn/linear_model/_logistic.py:458: ConvergenceWarning: lbfgs failed to converge (status=1):\n",
            "STOP: TOTAL NO. of ITERATIONS REACHED LIMIT.\n",
            "\n",
            "Increase the number of iterations (max_iter) or scale the data as shown in:\n",
            "    https://scikit-learn.org/stable/modules/preprocessing.html\n",
            "Please also refer to the documentation for alternative solver options:\n",
            "    https://scikit-learn.org/stable/modules/linear_model.html#logistic-regression\n",
            "  n_iter_i = _check_optimize_result(\n",
            "/usr/local/lib/python3.10/dist-packages/sklearn/linear_model/_logistic.py:458: ConvergenceWarning: lbfgs failed to converge (status=1):\n",
            "STOP: TOTAL NO. of ITERATIONS REACHED LIMIT.\n",
            "\n",
            "Increase the number of iterations (max_iter) or scale the data as shown in:\n",
            "    https://scikit-learn.org/stable/modules/preprocessing.html\n",
            "Please also refer to the documentation for alternative solver options:\n",
            "    https://scikit-learn.org/stable/modules/linear_model.html#logistic-regression\n",
            "  n_iter_i = _check_optimize_result(\n",
            "/usr/local/lib/python3.10/dist-packages/sklearn/linear_model/_logistic.py:458: ConvergenceWarning: lbfgs failed to converge (status=1):\n",
            "STOP: TOTAL NO. of ITERATIONS REACHED LIMIT.\n",
            "\n",
            "Increase the number of iterations (max_iter) or scale the data as shown in:\n",
            "    https://scikit-learn.org/stable/modules/preprocessing.html\n",
            "Please also refer to the documentation for alternative solver options:\n",
            "    https://scikit-learn.org/stable/modules/linear_model.html#logistic-regression\n",
            "  n_iter_i = _check_optimize_result(\n",
            "/usr/local/lib/python3.10/dist-packages/sklearn/linear_model/_logistic.py:458: ConvergenceWarning: lbfgs failed to converge (status=1):\n",
            "STOP: TOTAL NO. of ITERATIONS REACHED LIMIT.\n",
            "\n",
            "Increase the number of iterations (max_iter) or scale the data as shown in:\n",
            "    https://scikit-learn.org/stable/modules/preprocessing.html\n",
            "Please also refer to the documentation for alternative solver options:\n",
            "    https://scikit-learn.org/stable/modules/linear_model.html#logistic-regression\n",
            "  n_iter_i = _check_optimize_result(\n",
            "/usr/local/lib/python3.10/dist-packages/sklearn/linear_model/_logistic.py:458: ConvergenceWarning: lbfgs failed to converge (status=1):\n",
            "STOP: TOTAL NO. of ITERATIONS REACHED LIMIT.\n",
            "\n",
            "Increase the number of iterations (max_iter) or scale the data as shown in:\n",
            "    https://scikit-learn.org/stable/modules/preprocessing.html\n",
            "Please also refer to the documentation for alternative solver options:\n",
            "    https://scikit-learn.org/stable/modules/linear_model.html#logistic-regression\n",
            "  n_iter_i = _check_optimize_result(\n",
            "/usr/local/lib/python3.10/dist-packages/sklearn/linear_model/_logistic.py:458: ConvergenceWarning: lbfgs failed to converge (status=1):\n",
            "STOP: TOTAL NO. of ITERATIONS REACHED LIMIT.\n",
            "\n",
            "Increase the number of iterations (max_iter) or scale the data as shown in:\n",
            "    https://scikit-learn.org/stable/modules/preprocessing.html\n",
            "Please also refer to the documentation for alternative solver options:\n",
            "    https://scikit-learn.org/stable/modules/linear_model.html#logistic-regression\n",
            "  n_iter_i = _check_optimize_result(\n"
          ]
        },
        {
          "output_type": "stream",
          "name": "stdout",
          "text": [
            "Best Hyperparameters: {'C': 0.1, 'penalty': 'l2'}\n"
          ]
        },
        {
          "output_type": "stream",
          "name": "stderr",
          "text": [
            "/usr/local/lib/python3.10/dist-packages/sklearn/linear_model/_logistic.py:458: ConvergenceWarning: lbfgs failed to converge (status=1):\n",
            "STOP: TOTAL NO. of ITERATIONS REACHED LIMIT.\n",
            "\n",
            "Increase the number of iterations (max_iter) or scale the data as shown in:\n",
            "    https://scikit-learn.org/stable/modules/preprocessing.html\n",
            "Please also refer to the documentation for alternative solver options:\n",
            "    https://scikit-learn.org/stable/modules/linear_model.html#logistic-regression\n",
            "  n_iter_i = _check_optimize_result(\n"
          ]
        },
        {
          "output_type": "stream",
          "name": "stdout",
          "text": [
            "Accuracy: 0.9948920154135675\n",
            "Precision: 0.7922077922077922\n",
            "Recall: 0.5980392156862745\n",
            "F1 Score: 0.6815642458100559\n",
            "Confusion Matrix:\n",
            " [[11041    16]\n",
            " [   41    61]]\n",
            "Data Shape =  (55792, 70)\n"
          ]
        },
        {
          "output_type": "display_data",
          "data": {
            "text/plain": [
              "<Figure size 640x480 with 2 Axes>"
            ],
            "image/png": "[encoded data removed]"
          },
          "metadata": {}
        }
      ]
    },
    {
      "cell_type": "markdown",
      "source": [
        "##Logistic Regression - Run the best hyperparameter set\n"
      ],
      "metadata": {
        "id": "k8VPV3l7S4cd"
      }
    },
    {
      "cell_type": "code",
      "source": [
        "import numpy as np\n",
        "import seaborn as sns\n",
        "import matplotlib.pyplot as plt\n",
        "from sklearn.linear_model import LogisticRegression\n",
        "from sklearn.metrics import accuracy_score, precision_score, recall_score, f1_score, confusion_matrix\n",
        "\n",
        "\n",
        "# Get the feature names (column names) of the first DataFrame\n",
        "feature_names_data = data.columns\n",
        "\n",
        "# Reindex the second DataFrame to match the order of feature names in the first DataFrame\n",
        "data_test_reindexed = data_test.reindex(columns=feature_names_data)\n",
        "\n",
        "# Create a logistic regression classifier object with specified best hyperparameters\n",
        "best_clf = LogisticRegression(C=0.1, penalty='l2', max_iter=1000)\n",
        "\n",
        "# Train the classifier on the original training data\n",
        "X = data.drop(['team', 'conf', 'yr', 'ht', 'num', 'type', 'player_id','drafted'], axis=1)\n",
        "y = data['drafted']\n",
        "best_clf.fit(X, y)\n",
        "\n",
        "# Load the test dataset\n",
        "player_ids = data_test_reindexed['player_id']\n",
        "X_new_test = data_test_reindexed.drop(['team', 'conf', 'yr', 'ht', 'num', 'type', 'player_id', 'drafted'], axis=1)\n",
        "X_new_test.shape\n",
        "\n",
        "# Get predictions for the new test data\n",
        "y_pred_new = best_clf.predict(X_new_test)\n",
        "probs = best_clf.predict_proba(X_new_test)[:, 1]\n",
        "\n",
        "# Create a DataFrame to store results\n",
        "results_df = pd.DataFrame({\n",
        "    'Player_ID': player_ids,\n",
        "    'Predicted_Labels': y_pred_new,\n",
        "    'Probs' : probs\n",
        "})\n",
        "\n",
        "# Load the data\n",
        "output_file = '/content/drive/My Drive/AdvML/AT1/submission.csv'\n",
        "\n",
        "# Save the result to an output file\n",
        "results_df['player_id'] = player_ids\n",
        "results_df['drafted'] = y_pred_new\n",
        "results_df['prob'] = probs\n",
        "results_df.to_csv(output_file, index=False)"
      ],
      "metadata": {
        "colab": {
          "base_uri": "https://localhost:8080/"
        },
        "id": "GUpCtgZL-DK4",
        "outputId": "d93f9c44-6ab3-4af5-fbd5-a935a151ca98"
      },
      "execution_count": 433,
      "outputs": [
        {
          "output_type": "stream",
          "name": "stderr",
          "text": [
            "/usr/local/lib/python3.10/dist-packages/sklearn/linear_model/_logistic.py:458: ConvergenceWarning: lbfgs failed to converge (status=1):\n",
            "STOP: TOTAL NO. of ITERATIONS REACHED LIMIT.\n",
            "\n",
            "Increase the number of iterations (max_iter) or scale the data as shown in:\n",
            "    https://scikit-learn.org/stable/modules/preprocessing.html\n",
            "Please also refer to the documentation for alternative solver options:\n",
            "    https://scikit-learn.org/stable/modules/linear_model.html#logistic-regression\n",
            "  n_iter_i = _check_optimize_result(\n"
          ]
        }
      ]
    }
  ],
  "metadata": {
    "colab": {
      "collapsed_sections": [
        "VD0HoewD6anc",
        "l7SkJK_EDzEe",
        "QPx-MTk_usDX",
        "VWVJdTanf66C",
        "nRRhaknRy5qJ"
      ],
      "provenance": []
    },
    "kernelspec": {
      "display_name": "Python 3 (ipykernel)",
      "language": "python",
      "name": "python3"
    },
    "language_info": {
      "codemirror_mode": {
        "name": "ipython",
        "version": 3
      },
      "file_extension": ".py",
      "mimetype": "text/x-python",
      "name": "python",
      "nbconvert_exporter": "python",
      "pygments_lexer": "ipython3",
      "version": "3.9.13"
    }
  },
  "nbformat": 4,
  "nbformat_minor": 0
}